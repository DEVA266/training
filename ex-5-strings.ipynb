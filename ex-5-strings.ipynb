{
 "cells": [
  {
   "cell_type": "markdown",
   "id": "1c1bdcb5",
   "metadata": {},
   "source": [
    "## Experiment 5 : STRING MANIPULATION(5) "
   ]
  },
  {
   "cell_type": "markdown",
   "id": "b67f8a67",
   "metadata": {},
   "source": [
    "1. Username Validator  You're developing a login system. A username must only contain alphabets \n",
    "and numbers, and should not exceed 12 characters. \n",
    "Write a function that checks whether a given username is valid or not. Return True if it's valid, \n",
    "otherwise False. "
   ]
  },
  {
   "cell_type": "code",
   "execution_count": 11,
   "id": "a14d8164",
   "metadata": {},
   "outputs": [
    {
     "name": "stdout",
     "output_type": "stream",
     "text": [
      "True\n",
      "You entered an valid username!\n"
     ]
    }
   ],
   "source": [
    "def chcecking(name):\n",
    "    if len(name)>12 :\n",
    "        return False\n",
    "    for i in name:\n",
    "        if i.isalpha() or i.isdigit():\n",
    "            pass\n",
    "        else:\n",
    "            return False\n",
    "    return True\n",
    "\n",
    "username = input(\"Enter The Username : \")\n",
    "print(chcecking(username))\n",
    "if chcecking(username):\n",
    "    print(\"You entered an valid username!\")\n",
    "else :\n",
    "    print(\"Invalid username\")\n"
   ]
  },
  {
   "cell_type": "markdown",
   "id": "9289789c",
   "metadata": {},
   "source": [
    "2. Email Masking for Privacy . You need to mask part of an email address when displaying it \n",
    "publicly to protect user privacy. \n",
    "Write a program that takes an email like john.doe@example.com and returns a masked version \n",
    "like jo****@example.com."
   ]
  },
  {
   "cell_type": "code",
   "execution_count": null,
   "id": "feeec187",
   "metadata": {},
   "outputs": [
    {
     "name": "stdout",
     "output_type": "stream",
     "text": [
      "de****@gmail.com\n"
     ]
    }
   ],
   "source": [
    "def manipulation(e):\n",
    "    result = e[0]+e[1]+\"****\"\n",
    "    ind = 0\n",
    "    for i in range(len(e)) :\n",
    "        if e[i] == \"@\":\n",
    "            result = result+e[i:]\n",
    "            return result\n",
    "    print(\"Enter an valid email address\")\n",
    "\n",
    "email = input(\"Enter your email : \")\n",
    "print(manipulation(email))\n"
   ]
  },
  {
   "cell_type": "markdown",
   "id": "2b83f6ad",
   "metadata": {},
   "source": [
    "3. Detecting Palindromes  You are building a text analyzer app. One of the features is to detect if a \n",
    "word or phrase is a palindrome (ignoring spaces and punctuation). \n",
    "Write a function that checks whether a given string is a palindrome, ignoring case, spaces, and \n",
    "punctuation."
   ]
  },
  {
   "cell_type": "code",
   "execution_count": 29,
   "id": "4aa2f2c7",
   "metadata": {},
   "outputs": [
    {
     "name": "stdout",
     "output_type": "stream",
     "text": [
      "The given string is palindrome\n",
      "True\n"
     ]
    }
   ],
   "source": [
    "def check(c):\n",
    "    c = c.upper()\n",
    "    n = \"\"\n",
    "    for i in c:\n",
    "        if i.isalnum():\n",
    "            n = n+i\n",
    "    if n==n[::-1]:\n",
    "        print(\"The given string is palindrome\")\n",
    "        return True\n",
    "\n",
    "text = input(\"Enter the text : \")\n",
    "print(check(text))\n"
   ]
  },
  {
   "cell_type": "markdown",
   "id": "366d986d",
   "metadata": {},
   "source": [
    "4. Text Formatter for News Headlines - You’re building a news app that receives article titles in \n",
    "random casing. You need to format the titles so each word starts with a capital letter. \n",
    "Write a function that converts a given string like \"breaKing news: python is fun\" to \"Breaking \n",
    "News: Python Is Fun\"."
   ]
  },
  {
   "cell_type": "code",
   "execution_count": null,
   "id": "5e81f7f9",
   "metadata": {},
   "outputs": [],
   "source": [
    "def capital():"
   ]
  }
 ],
 "metadata": {
  "kernelspec": {
   "display_name": "Python 3",
   "language": "python",
   "name": "python3"
  },
  "language_info": {
   "codemirror_mode": {
    "name": "ipython",
    "version": 3
   },
   "file_extension": ".py",
   "mimetype": "text/x-python",
   "name": "python",
   "nbconvert_exporter": "python",
   "pygments_lexer": "ipython3",
   "version": "3.13.3"
  }
 },
 "nbformat": 4,
 "nbformat_minor": 5
}
