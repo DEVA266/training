{
  "cells": [
    {
      "cell_type": "markdown",
      "metadata": {
        "id": "view-in-github",
        "colab_type": "text"
      },
      "source": [
        "<a href=\"https://colab.research.google.com/github/DEVA266/training/blob/main/numpy.ipynb\" target=\"_parent\"><img src=\"https://colab.research.google.com/assets/colab-badge.svg\" alt=\"Open In Colab\"/></a>"
      ]
    },
    {
      "cell_type": "code",
      "execution_count": 1,
      "metadata": {
        "id": "J1V0q6m-hu1R"
      },
      "outputs": [],
      "source": [
        "import numpy as np"
      ]
    },
    {
      "cell_type": "code",
      "execution_count": 2,
      "metadata": {
        "id": "VhEWOeRIh4uL"
      },
      "outputs": [],
      "source": [
        "a = np.array([1,2,3])\n",
        "b = np.array([[1,2,3],[4,5,6]])\n"
      ]
    },
    {
      "cell_type": "code",
      "execution_count": 3,
      "metadata": {
        "colab": {
          "base_uri": "https://localhost:8080/"
        },
        "id": "GkI4oI9RiCdR",
        "outputId": "d0840eed-11a5-4351-8ab8-f564e9ce581f"
      },
      "outputs": [
        {
          "output_type": "stream",
          "name": "stdout",
          "text": [
            "[1 2 3]\n"
          ]
        }
      ],
      "source": [
        "print(a)"
      ]
    },
    {
      "cell_type": "code",
      "execution_count": 4,
      "metadata": {
        "colab": {
          "base_uri": "https://localhost:8080/"
        },
        "id": "8wiLmybziDzv",
        "outputId": "91927c8c-4bfc-4ed4-bb3c-58341f300a82"
      },
      "outputs": [
        {
          "output_type": "stream",
          "name": "stdout",
          "text": [
            "[[1 2 3]\n",
            " [4 5 6]]\n"
          ]
        }
      ],
      "source": [
        "print(b)"
      ]
    },
    {
      "cell_type": "code",
      "execution_count": 5,
      "metadata": {
        "colab": {
          "base_uri": "https://localhost:8080/"
        },
        "id": "5v0PRNofiE78",
        "outputId": "8d028b7c-467d-47e5-d5be-612fd37cb1b5"
      },
      "outputs": [
        {
          "output_type": "stream",
          "name": "stdout",
          "text": [
            "[1 2 3] [[1 2 3]\n",
            " [4 5 6]]\n",
            "These values are real\n"
          ]
        }
      ],
      "source": [
        "print(a,b)\n",
        "print(\"These values are real\")"
      ]
    },
    {
      "cell_type": "code",
      "execution_count": 6,
      "metadata": {
        "id": "bk1W4_cpim69",
        "outputId": "1575b1b4-0f66-4635-c22e-b7519197dc3d",
        "colab": {
          "base_uri": "https://localhost:8080/"
        }
      },
      "outputs": [
        {
          "output_type": "stream",
          "name": "stdout",
          "text": [
            "Now it is added in the VS code editor\n"
          ]
        }
      ],
      "source": [
        "print(\"Now it is added in the VS code editor\")"
      ]
    },
    {
      "cell_type": "code",
      "execution_count": 7,
      "metadata": {
        "id": "6QUfBmgmXhAD",
        "outputId": "52f243a8-7a3c-444c-a694-645c80a8a55b",
        "colab": {
          "base_uri": "https://localhost:8080/"
        }
      },
      "outputs": [
        {
          "output_type": "stream",
          "name": "stdout",
          "text": [
            "[[1 2 3]\n",
            " [4 5 6]]\n"
          ]
        }
      ],
      "source": [
        "print(b)"
      ]
    },
    {
      "cell_type": "code",
      "execution_count": 8,
      "metadata": {
        "id": "jNnJoQmKXhAD",
        "outputId": "bef9beb5-d630-40f3-b93d-1111cb59dc5d",
        "colab": {
          "base_uri": "https://localhost:8080/"
        }
      },
      "outputs": [
        {
          "output_type": "execute_result",
          "data": {
            "text/plain": [
              "np.int64(5)"
            ]
          },
          "metadata": {},
          "execution_count": 8
        }
      ],
      "source": [
        "b[1,1]"
      ]
    },
    {
      "cell_type": "code",
      "execution_count": 9,
      "metadata": {
        "id": "GZZLpAZ1XhAD",
        "outputId": "f147813d-0c4c-4456-88a4-78bf76ff6da1",
        "colab": {
          "base_uri": "https://localhost:8080/"
        }
      },
      "outputs": [
        {
          "output_type": "stream",
          "name": "stdout",
          "text": [
            "2\n"
          ]
        }
      ],
      "source": [
        "print(a[1])"
      ]
    },
    {
      "cell_type": "code",
      "execution_count": 10,
      "metadata": {
        "id": "d1Idw16-XhAD",
        "outputId": "7d98bf23-34ad-4870-aa23-0bf9dfbb4756",
        "colab": {
          "base_uri": "https://localhost:8080/"
        }
      },
      "outputs": [
        {
          "output_type": "stream",
          "name": "stdout",
          "text": [
            "[[ 1  2  3  4  5  6  7  8  9]\n",
            " [ 0 11 12 13 14 15 16 17 18]]\n"
          ]
        }
      ],
      "source": [
        "c = np.array([[1,2,3,4,5,6,7,8,9],[0,11,12,13,14,15,16,17,18]])\n",
        "print(c)"
      ]
    },
    {
      "cell_type": "code",
      "execution_count": 11,
      "metadata": {
        "id": "9GnQuDspXhAD",
        "outputId": "f5724bf2-29b3-4807-9836-1804d6746b6a",
        "colab": {
          "base_uri": "https://localhost:8080/"
        }
      },
      "outputs": [
        {
          "output_type": "stream",
          "name": "stdout",
          "text": [
            "[ 0 11 12 13 14 15 16 17 18]\n"
          ]
        }
      ],
      "source": [
        "print(c[1,:])"
      ]
    },
    {
      "cell_type": "code",
      "execution_count": 12,
      "metadata": {
        "id": "k7L2kt3vXhAD",
        "outputId": "bc95a9a5-0572-4b62-bdec-37a806184c3a",
        "colab": {
          "base_uri": "https://localhost:8080/"
        }
      },
      "outputs": [
        {
          "output_type": "stream",
          "name": "stdout",
          "text": [
            "[11 12 13 14]\n"
          ]
        }
      ],
      "source": [
        "print(c[1,1:5])"
      ]
    },
    {
      "cell_type": "code",
      "execution_count": 13,
      "metadata": {
        "id": "x88tFqewXhAD",
        "outputId": "643e7cd6-7026-4d1c-fa93-2c282dea257a",
        "colab": {
          "base_uri": "https://localhost:8080/"
        }
      },
      "outputs": [
        {
          "output_type": "execute_result",
          "data": {
            "text/plain": [
              "array([ 6, 15])"
            ]
          },
          "metadata": {},
          "execution_count": 13
        }
      ],
      "source": [
        "c[:,5]"
      ]
    },
    {
      "cell_type": "code",
      "execution_count": 14,
      "metadata": {
        "id": "DF1luMguXhAD",
        "outputId": "5394b97b-f8eb-41f5-d343-14f909050843",
        "colab": {
          "base_uri": "https://localhost:8080/"
        }
      },
      "outputs": [
        {
          "output_type": "stream",
          "name": "stdout",
          "text": [
            "[12 14 16]\n"
          ]
        }
      ],
      "source": [
        "print(c[1,2:8:2])"
      ]
    },
    {
      "cell_type": "code",
      "execution_count": 15,
      "metadata": {
        "id": "Yptw1BAGXhAE",
        "outputId": "bace3415-76e2-484f-da64-c601ee28783d",
        "colab": {
          "base_uri": "https://localhost:8080/"
        }
      },
      "outputs": [
        {
          "output_type": "stream",
          "name": "stdout",
          "text": [
            "[7]\n"
          ]
        }
      ],
      "source": [
        "print(c[0:1:1,6])"
      ]
    },
    {
      "cell_type": "code",
      "execution_count": 16,
      "metadata": {
        "id": "TfZFy5nnXhAE",
        "outputId": "8d92de63-79ea-4fc8-a0b4-ffe446bd3c1c",
        "colab": {
          "base_uri": "https://localhost:8080/"
        }
      },
      "outputs": [
        {
          "output_type": "stream",
          "name": "stdout",
          "text": [
            "(3, 2, 2)\n"
          ]
        }
      ],
      "source": [
        "d = np.array([[[1,2],[3,4]],[[5,8],[11,12]],[[1,2],[3,4]]])\n",
        "print(d.shape)\n"
      ]
    },
    {
      "cell_type": "markdown",
      "metadata": {
        "id": "MNWvi_ePXhAE"
      },
      "source": [
        "Initializing matrix"
      ]
    },
    {
      "cell_type": "code",
      "execution_count": 17,
      "metadata": {
        "id": "kKIvO8fuXhAE",
        "outputId": "8c78ac28-2c29-4666-9afb-502b08a9e943",
        "colab": {
          "base_uri": "https://localhost:8080/"
        }
      },
      "outputs": [
        {
          "output_type": "stream",
          "name": "stdout",
          "text": [
            "[[0. 0.]\n",
            " [0. 0.]]\n"
          ]
        }
      ],
      "source": [
        "print(np.zeros((2,2)))"
      ]
    },
    {
      "cell_type": "code",
      "execution_count": 18,
      "metadata": {
        "id": "Zn05I935XhAE",
        "outputId": "d567aee1-3fed-4d02-c140-a4b449e647dd",
        "colab": {
          "base_uri": "https://localhost:8080/"
        }
      },
      "outputs": [
        {
          "output_type": "stream",
          "name": "stdout",
          "text": [
            "[[1 1 1]\n",
            " [1 1 1]]\n"
          ]
        }
      ],
      "source": [
        "print(np.ones((2,3),dtype=\"int32\"))"
      ]
    },
    {
      "cell_type": "code",
      "execution_count": 19,
      "metadata": {
        "id": "MxWKDepfXhAE",
        "outputId": "3b0c3310-a02c-4390-8181-4e236013a40e",
        "colab": {
          "base_uri": "https://localhost:8080/"
        }
      },
      "outputs": [
        {
          "output_type": "stream",
          "name": "stdout",
          "text": [
            "[[11 11 11 11 11]\n",
            " [11 11 11 11 11]]\n"
          ]
        }
      ],
      "source": [
        "print(np.full((2,5),11))"
      ]
    },
    {
      "cell_type": "code",
      "execution_count": 20,
      "metadata": {
        "id": "r9X_AqGBXhAE",
        "outputId": "392c6a87-f5be-43cd-9e5c-8b241c09ff3e",
        "colab": {
          "base_uri": "https://localhost:8080/"
        }
      },
      "outputs": [
        {
          "output_type": "stream",
          "name": "stdout",
          "text": [
            "[[ 1  2  3  4  5  6  7  8  9]\n",
            " [ 0 11 12 13 14 15 16 17 18]]\n"
          ]
        }
      ],
      "source": [
        "print(c)"
      ]
    },
    {
      "cell_type": "code",
      "execution_count": 21,
      "metadata": {
        "id": "sxD6FrzUXhAE",
        "outputId": "075c4b7b-5c64-4889-9f47-9193fb730425",
        "colab": {
          "base_uri": "https://localhost:8080/"
        }
      },
      "outputs": [
        {
          "output_type": "stream",
          "name": "stdout",
          "text": [
            "[[7 7 7 7 7 7 7 7 7]\n",
            " [7 7 7 7 7 7 7 7 7]]\n"
          ]
        }
      ],
      "source": [
        "print(np.full_like(c,7))"
      ]
    },
    {
      "cell_type": "code",
      "execution_count": 22,
      "metadata": {
        "id": "UjFLB8sEXhAE",
        "outputId": "fcbbfaef-71da-4310-daa6-90aa2b9ad5f2",
        "colab": {
          "base_uri": "https://localhost:8080/"
        }
      },
      "outputs": [
        {
          "output_type": "stream",
          "name": "stdout",
          "text": [
            "[[ 1  2  3  4  5  6  7  8  9]\n",
            " [ 0 11 12 13 14 15 16 17 18]]\n"
          ]
        }
      ],
      "source": [
        "print(c)"
      ]
    },
    {
      "cell_type": "code",
      "execution_count": 23,
      "metadata": {
        "id": "pIOYyaUaXhAF",
        "outputId": "5c51049a-c1f5-4008-906b-c0311eb11329",
        "colab": {
          "base_uri": "https://localhost:8080/"
        }
      },
      "outputs": [
        {
          "output_type": "stream",
          "name": "stdout",
          "text": [
            "[[9 9 9 9 9 9 9 9 9]\n",
            " [9 9 9 9 9 9 9 9 9]]\n"
          ]
        }
      ],
      "source": [
        "print(np.full(c.shape,9))"
      ]
    },
    {
      "cell_type": "code",
      "execution_count": 24,
      "metadata": {
        "id": "3ni-SBUGXhAF",
        "outputId": "0e220111-5a06-4cba-c4a9-db3ddb69eaa1",
        "colab": {
          "base_uri": "https://localhost:8080/"
        }
      },
      "outputs": [
        {
          "output_type": "stream",
          "name": "stdout",
          "text": [
            "[[ 1  2  3  4  5  6  7  8  9]\n",
            " [ 0 11 12 13 14 15 16 17 18]]\n"
          ]
        }
      ],
      "source": [
        "print(c)"
      ]
    },
    {
      "cell_type": "code",
      "execution_count": 25,
      "metadata": {
        "id": "SMHLFAKYXhAF",
        "outputId": "3a60db77-cb96-489a-8fbe-f789807d12b9",
        "colab": {
          "base_uri": "https://localhost:8080/"
        }
      },
      "outputs": [
        {
          "output_type": "execute_result",
          "data": {
            "text/plain": [
              "array([[0.75970098, 0.15841931],\n",
              "       [0.6775299 , 0.63892929],\n",
              "       [0.51101813, 0.98183093],\n",
              "       [0.03265275, 0.39026584]])"
            ]
          },
          "metadata": {},
          "execution_count": 25
        }
      ],
      "source": [
        "np.random.rand(4,2)"
      ]
    },
    {
      "cell_type": "code",
      "execution_count": 26,
      "metadata": {
        "id": "guYxw_mEXhAF",
        "outputId": "a56805f1-a0ee-4152-eab7-f5876ed33c1f",
        "colab": {
          "base_uri": "https://localhost:8080/"
        }
      },
      "outputs": [
        {
          "output_type": "stream",
          "name": "stdout",
          "text": [
            "[[0.72047911 0.57414971]\n",
            " [0.5748268  0.77207511]\n",
            " [0.53910095 0.42405578]\n",
            " [0.39060097 0.20501924]]\n"
          ]
        }
      ],
      "source": [
        "print(np.random.rand(4,2))"
      ]
    },
    {
      "cell_type": "code",
      "execution_count": 27,
      "metadata": {
        "id": "Y0BCpoqyXhAF",
        "outputId": "291543c4-d744-4f16-80e5-f73385771a2f",
        "colab": {
          "base_uri": "https://localhost:8080/"
        }
      },
      "outputs": [
        {
          "output_type": "stream",
          "name": "stdout",
          "text": [
            "[[0.8225596  0.81748224 0.69387809 0.11713577 0.50251718 0.38592793\n",
            "  0.65097663 0.41726428 0.42450924]\n",
            " [0.31870882 0.4738893  0.74662269 0.88579646 0.23563361 0.0168959\n",
            "  0.39983696 0.62143539 0.66269489]]\n"
          ]
        }
      ],
      "source": [
        "print(np.random.random_sample(c.shape))"
      ]
    },
    {
      "cell_type": "code",
      "execution_count": 28,
      "metadata": {
        "id": "et_1kEoaXhAF",
        "outputId": "ca2ebd8a-359a-46d9-dc3a-822b44908208",
        "colab": {
          "base_uri": "https://localhost:8080/"
        }
      },
      "outputs": [
        {
          "output_type": "stream",
          "name": "stdout",
          "text": [
            "[0 6]\n"
          ]
        }
      ],
      "source": [
        "print(np.random.randint(c.shape))"
      ]
    },
    {
      "cell_type": "code",
      "execution_count": 29,
      "metadata": {
        "id": "eTZMv4wZXhAF",
        "outputId": "dd69c351-acc6-4753-8312-b213c6d8cb97",
        "colab": {
          "base_uri": "https://localhost:8080/"
        }
      },
      "outputs": [
        {
          "output_type": "stream",
          "name": "stdout",
          "text": [
            "[[-0.5799514   0.66607913  0.2103849 ]\n",
            " [ 1.02422776  0.63539867  0.42392269]]\n"
          ]
        }
      ],
      "source": [
        "print(np.random.randn(2,3))"
      ]
    },
    {
      "cell_type": "markdown",
      "metadata": {
        "id": "cqfN0w-uXhAF"
      },
      "source": [
        "To print Random of integers in numpy"
      ]
    },
    {
      "cell_type": "code",
      "execution_count": 30,
      "metadata": {
        "id": "NifjSjYaXhAF",
        "outputId": "388a5e11-852e-4f77-a8cb-f52e860c937e",
        "colab": {
          "base_uri": "https://localhost:8080/"
        }
      },
      "outputs": [
        {
          "output_type": "stream",
          "name": "stdout",
          "text": [
            "[[4 2 4 4]\n",
            " [3 4 4 3]\n",
            " [4 4 3 2]]\n"
          ]
        }
      ],
      "source": [
        "# random.randint(start_value,End_value,size of the matrix)\n",
        "print(np.random.randint(2,5,size=(3,4)))"
      ]
    },
    {
      "cell_type": "code",
      "execution_count": 31,
      "metadata": {
        "id": "q9OM52aMXhAF",
        "outputId": "8d421710-1f45-4495-8de9-eb9c98110a66",
        "colab": {
          "base_uri": "https://localhost:8080/"
        }
      },
      "outputs": [
        {
          "output_type": "stream",
          "name": "stdout",
          "text": [
            "[[18 11 15 14 18  9  5]\n",
            " [12 15 16 14  0  5 18]\n",
            " [ 5  8  2  7  6  3 14]]\n"
          ]
        }
      ],
      "source": [
        "print(np.random.randint(19,size=(3,7)))"
      ]
    },
    {
      "cell_type": "code",
      "execution_count": 32,
      "metadata": {
        "id": "Y15Sb8boXhAF",
        "outputId": "08d55501-9354-47e2-8059-823871ae4b5d",
        "colab": {
          "base_uri": "https://localhost:8080/"
        }
      },
      "outputs": [
        {
          "output_type": "stream",
          "name": "stdout",
          "text": [
            "[1 2 3]\n",
            "[[1 2 3]\n",
            " [4 5 6]]\n",
            "[[ 1  2  3  4  5  6  7  8  9]\n",
            " [ 0 11 12 13 14 15 16 17 18]]\n",
            "[[[ 1  2]\n",
            "  [ 3  4]]\n",
            "\n",
            " [[ 5  8]\n",
            "  [11 12]]\n",
            "\n",
            " [[ 1  2]\n",
            "  [ 3  4]]]\n"
          ]
        }
      ],
      "source": [
        "print(a)\n",
        "print(b)\n",
        "print(c)\n",
        "print(d)"
      ]
    },
    {
      "cell_type": "markdown",
      "source": [
        "To have a identity matrix\n",
        "we use identity function"
      ],
      "metadata": {
        "id": "cBj8PlfEVFd-"
      }
    },
    {
      "cell_type": "code",
      "source": [
        "print(np.identity(3))"
      ],
      "metadata": {
        "id": "UFIbIsKjXjJy",
        "outputId": "44cce54d-235e-47f5-950a-924563970340",
        "colab": {
          "base_uri": "https://localhost:8080/"
        }
      },
      "execution_count": 33,
      "outputs": [
        {
          "output_type": "stream",
          "name": "stdout",
          "text": [
            "[[1. 0. 0.]\n",
            " [0. 1. 0.]\n",
            " [0. 0. 1.]]\n"
          ]
        }
      ]
    },
    {
      "cell_type": "code",
      "source": [
        "print(np.identity(6))"
      ],
      "metadata": {
        "id": "FG6AFtZ5VaRO",
        "outputId": "00f9b8dd-f624-48b9-fdf8-1f7f175b8c56",
        "colab": {
          "base_uri": "https://localhost:8080/"
        }
      },
      "execution_count": 34,
      "outputs": [
        {
          "output_type": "stream",
          "name": "stdout",
          "text": [
            "[[1. 0. 0. 0. 0. 0.]\n",
            " [0. 1. 0. 0. 0. 0.]\n",
            " [0. 0. 1. 0. 0. 0.]\n",
            " [0. 0. 0. 1. 0. 0.]\n",
            " [0. 0. 0. 0. 1. 0.]\n",
            " [0. 0. 0. 0. 0. 1.]]\n"
          ]
        }
      ]
    },
    {
      "cell_type": "code",
      "source": [
        "# Repeating an array\n",
        "# if we want to repeat an array then we use repeat function\n",
        "print(a)\n",
        "a = np.array([[1,2,3]])\n",
        "# to use the axis then the array want to be more than one dimensional\n",
        "print(np.repeat(a,5,axis=0))"
      ],
      "metadata": {
        "id": "4bKMGQAWVeCr",
        "outputId": "624377f2-df52-44d8-b16e-1484fe89825b",
        "colab": {
          "base_uri": "https://localhost:8080/"
        }
      },
      "execution_count": 35,
      "outputs": [
        {
          "output_type": "stream",
          "name": "stdout",
          "text": [
            "[1 2 3]\n",
            "[[1 2 3]\n",
            " [1 2 3]\n",
            " [1 2 3]\n",
            " [1 2 3]\n",
            " [1 2 3]]\n"
          ]
        }
      ]
    },
    {
      "cell_type": "code",
      "source": [
        "output = np.ones([5,5])\n",
        "print(output)\n",
        "z = np.zeros([3,3])\n",
        "print(z)\n",
        "z[1,1]=9\n",
        "print(z)\n",
        "print(output[1:4,1:4])\n",
        "output[1:4,1:4] = z\n",
        "print(output)"
      ],
      "metadata": {
        "id": "t79DVO8aXkA9",
        "outputId": "2b28db7f-10d1-4e20-8a76-39b259c82892",
        "colab": {
          "base_uri": "https://localhost:8080/"
        }
      },
      "execution_count": 36,
      "outputs": [
        {
          "output_type": "stream",
          "name": "stdout",
          "text": [
            "[[1. 1. 1. 1. 1.]\n",
            " [1. 1. 1. 1. 1.]\n",
            " [1. 1. 1. 1. 1.]\n",
            " [1. 1. 1. 1. 1.]\n",
            " [1. 1. 1. 1. 1.]]\n",
            "[[0. 0. 0.]\n",
            " [0. 0. 0.]\n",
            " [0. 0. 0.]]\n",
            "[[0. 0. 0.]\n",
            " [0. 9. 0.]\n",
            " [0. 0. 0.]]\n",
            "[[1. 1. 1.]\n",
            " [1. 1. 1.]\n",
            " [1. 1. 1.]]\n",
            "[[1. 1. 1. 1. 1.]\n",
            " [1. 0. 0. 0. 1.]\n",
            " [1. 0. 9. 0. 1.]\n",
            " [1. 0. 0. 0. 1.]\n",
            " [1. 1. 1. 1. 1.]]\n"
          ]
        }
      ]
    },
    {
      "cell_type": "code",
      "source": [
        "print(output)"
      ],
      "metadata": {
        "id": "CI0FVgMtYM9J",
        "outputId": "6e85a840-b3b9-42d5-cca3-8c3d82bab1f0",
        "colab": {
          "base_uri": "https://localhost:8080/"
        }
      },
      "execution_count": 37,
      "outputs": [
        {
          "output_type": "stream",
          "name": "stdout",
          "text": [
            "[[1. 1. 1. 1. 1.]\n",
            " [1. 0. 0. 0. 1.]\n",
            " [1. 0. 9. 0. 1.]\n",
            " [1. 0. 0. 0. 1.]\n",
            " [1. 1. 1. 1. 1.]]\n"
          ]
        }
      ]
    },
    {
      "cell_type": "code",
      "source": [
        "display(output)"
      ],
      "metadata": {
        "id": "mTd7zeyUYbtf",
        "outputId": "84a38cc0-b41e-4cc9-b006-1655fac6ebb4",
        "colab": {
          "base_uri": "https://localhost:8080/",
          "height": 104
        }
      },
      "execution_count": 38,
      "outputs": [
        {
          "output_type": "display_data",
          "data": {
            "text/plain": [
              "array([[1., 1., 1., 1., 1.],\n",
              "       [1., 0., 0., 0., 1.],\n",
              "       [1., 0., 9., 0., 1.],\n",
              "       [1., 0., 0., 0., 1.],\n",
              "       [1., 1., 1., 1., 1.]])"
            ]
          },
          "metadata": {}
        }
      ]
    },
    {
      "cell_type": "code",
      "source": [
        "# Copying array\n",
        "# if we copy the array using equal to operator then all the changes are made in the copy of the array we be effected in the original array so use the copy function present in the numpy to copy the array available\n",
        "# to copy the array to another variable use the copy function\n",
        "print(a)\n",
        "a = np.array([1,2,3])\n",
        "b = a\n",
        "b[1] = 5\n",
        "print(a)\n",
        "\n",
        "# so to avoid this\n",
        "# we use the copy function\n",
        "b = a.copy()\n",
        "print(a)\n",
        "print(b)\n",
        "b[1]=2\n",
        "print(b)\n",
        "print(a)\n"
      ],
      "metadata": {
        "id": "7DyN_6wYZJNX",
        "outputId": "47461eff-623e-4e48-bef6-4cc5486e9a1d",
        "colab": {
          "base_uri": "https://localhost:8080/"
        }
      },
      "execution_count": 39,
      "outputs": [
        {
          "output_type": "stream",
          "name": "stdout",
          "text": [
            "[[1 2 3]]\n",
            "[1 5 3]\n",
            "[1 5 3]\n",
            "[1 5 3]\n",
            "[1 2 3]\n",
            "[1 5 3]\n"
          ]
        }
      ]
    },
    {
      "cell_type": "code",
      "source": [
        "a = np.full((2,3),2)\n",
        "print(a)\n",
        "b = np.ones((3,4))\n",
        "print(b)\n",
        "print(np.matmul(a,b))"
      ],
      "metadata": {
        "id": "5eTbuvs3aYjV",
        "outputId": "b85823ad-65f2-4fe2-f93c-ab9ce7d19c12",
        "colab": {
          "base_uri": "https://localhost:8080/"
        }
      },
      "execution_count": 40,
      "outputs": [
        {
          "output_type": "stream",
          "name": "stdout",
          "text": [
            "[[2 2 2]\n",
            " [2 2 2]]\n",
            "[[1. 1. 1. 1.]\n",
            " [1. 1. 1. 1.]\n",
            " [1. 1. 1. 1.]]\n",
            "[[6. 6. 6. 6.]\n",
            " [6. 6. 6. 6.]]\n"
          ]
        }
      ]
    }
  ],
  "metadata": {
    "colab": {
      "provenance": [],
      "include_colab_link": true
    },
    "kernelspec": {
      "display_name": "Python 3",
      "name": "python3"
    },
    "language_info": {
      "codemirror_mode": {
        "name": "ipython",
        "version": 3
      },
      "file_extension": ".py",
      "mimetype": "text/x-python",
      "name": "python",
      "nbconvert_exporter": "python",
      "pygments_lexer": "ipython3",
      "version": "3.11.0"
    }
  },
  "nbformat": 4,
  "nbformat_minor": 0
}