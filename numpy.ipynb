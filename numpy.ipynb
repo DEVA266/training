{
  "cells": [
    {
      "cell_type": "markdown",
      "metadata": {
        "id": "view-in-github",
        "colab_type": "text"
      },
      "source": [
        "<a href=\"https://colab.research.google.com/github/DEVA266/training/blob/main/numpy.ipynb\" target=\"_parent\"><img src=\"https://colab.research.google.com/assets/colab-badge.svg\" alt=\"Open In Colab\"/></a>"
      ]
    },
    {
      "cell_type": "code",
      "execution_count": 1,
      "metadata": {
        "id": "J1V0q6m-hu1R"
      },
      "outputs": [],
      "source": [
        "import numpy as np"
      ]
    },
    {
      "cell_type": "code",
      "execution_count": 2,
      "metadata": {
        "id": "VhEWOeRIh4uL"
      },
      "outputs": [],
      "source": [
        "a = np.array([1,2,3])\n",
        "b = np.array([[1,2,3],[4,5,6]])\n"
      ]
    },
    {
      "cell_type": "code",
      "execution_count": 3,
      "metadata": {
        "colab": {
          "base_uri": "https://localhost:8080/"
        },
        "id": "GkI4oI9RiCdR",
        "outputId": "176cf0e5-bdaf-47f9-f389-2d813f3e4bcc"
      },
      "outputs": [
        {
          "output_type": "stream",
          "name": "stdout",
          "text": [
            "[1 2 3]\n"
          ]
        }
      ],
      "source": [
        "print(a)"
      ]
    },
    {
      "cell_type": "code",
      "execution_count": 4,
      "metadata": {
        "colab": {
          "base_uri": "https://localhost:8080/"
        },
        "id": "8wiLmybziDzv",
        "outputId": "dcf45f63-cba1-4dfa-d987-32110fe2a2f9"
      },
      "outputs": [
        {
          "output_type": "stream",
          "name": "stdout",
          "text": [
            "[[1 2 3]\n",
            " [4 5 6]]\n"
          ]
        }
      ],
      "source": [
        "print(b)"
      ]
    },
    {
      "cell_type": "code",
      "execution_count": 5,
      "metadata": {
        "colab": {
          "base_uri": "https://localhost:8080/"
        },
        "id": "5v0PRNofiE78",
        "outputId": "4c906e46-215e-43e7-9009-309dd5ecc730"
      },
      "outputs": [
        {
          "output_type": "stream",
          "name": "stdout",
          "text": [
            "[1 2 3] [[1 2 3]\n",
            " [4 5 6]]\n",
            "These values are real\n"
          ]
        }
      ],
      "source": [
        "print(a,b)\n",
        "print(\"These values are real\")"
      ]
    },
    {
      "cell_type": "code",
      "execution_count": 6,
      "metadata": {
        "id": "bk1W4_cpim69",
        "outputId": "4b5ee200-0101-40ea-8d7e-f0fb3819148c",
        "colab": {
          "base_uri": "https://localhost:8080/"
        }
      },
      "outputs": [
        {
          "output_type": "stream",
          "name": "stdout",
          "text": [
            "Now it is added in the VS code editor\n"
          ]
        }
      ],
      "source": [
        "print(\"Now it is added in the VS code editor\")"
      ]
    },
    {
      "cell_type": "code",
      "execution_count": 7,
      "metadata": {
        "id": "6QUfBmgmXhAD",
        "outputId": "2700fc8b-47cc-47e0-b7a5-646f87570dab",
        "colab": {
          "base_uri": "https://localhost:8080/"
        }
      },
      "outputs": [
        {
          "output_type": "stream",
          "name": "stdout",
          "text": [
            "[[1 2 3]\n",
            " [4 5 6]]\n"
          ]
        }
      ],
      "source": [
        "print(b)"
      ]
    },
    {
      "cell_type": "code",
      "execution_count": 8,
      "metadata": {
        "id": "jNnJoQmKXhAD",
        "outputId": "be19d2ed-f647-4d6b-e624-54ce206b2fab",
        "colab": {
          "base_uri": "https://localhost:8080/"
        }
      },
      "outputs": [
        {
          "output_type": "execute_result",
          "data": {
            "text/plain": [
              "np.int64(5)"
            ]
          },
          "metadata": {},
          "execution_count": 8
        }
      ],
      "source": [
        "b[1,1]"
      ]
    },
    {
      "cell_type": "code",
      "execution_count": 9,
      "metadata": {
        "id": "GZZLpAZ1XhAD",
        "outputId": "5fe28be5-2022-4ec7-fe97-d81ded1ee8a0",
        "colab": {
          "base_uri": "https://localhost:8080/"
        }
      },
      "outputs": [
        {
          "output_type": "stream",
          "name": "stdout",
          "text": [
            "2\n"
          ]
        }
      ],
      "source": [
        "print(a[1])"
      ]
    },
    {
      "cell_type": "code",
      "execution_count": 10,
      "metadata": {
        "id": "d1Idw16-XhAD",
        "outputId": "008cb714-4025-4e0f-f199-8747a17c13e0",
        "colab": {
          "base_uri": "https://localhost:8080/"
        }
      },
      "outputs": [
        {
          "output_type": "stream",
          "name": "stdout",
          "text": [
            "[[ 1  2  3  4  5  6  7  8  9]\n",
            " [ 0 11 12 13 14 15 16 17 18]]\n"
          ]
        }
      ],
      "source": [
        "c = np.array([[1,2,3,4,5,6,7,8,9],[0,11,12,13,14,15,16,17,18]])\n",
        "print(c)"
      ]
    },
    {
      "cell_type": "code",
      "execution_count": 11,
      "metadata": {
        "id": "9GnQuDspXhAD",
        "outputId": "c79e680c-4de3-4a65-a837-3baa19600f8e",
        "colab": {
          "base_uri": "https://localhost:8080/"
        }
      },
      "outputs": [
        {
          "output_type": "stream",
          "name": "stdout",
          "text": [
            "[ 0 11 12 13 14 15 16 17 18]\n"
          ]
        }
      ],
      "source": [
        "print(c[1,:])"
      ]
    },
    {
      "cell_type": "code",
      "execution_count": 12,
      "metadata": {
        "id": "k7L2kt3vXhAD",
        "outputId": "f52bc1fd-fd9a-46e9-a9aa-f28d964b7d10",
        "colab": {
          "base_uri": "https://localhost:8080/"
        }
      },
      "outputs": [
        {
          "output_type": "stream",
          "name": "stdout",
          "text": [
            "[11 12 13 14]\n"
          ]
        }
      ],
      "source": [
        "print(c[1,1:5])"
      ]
    },
    {
      "cell_type": "code",
      "execution_count": 13,
      "metadata": {
        "id": "x88tFqewXhAD",
        "outputId": "f52c6788-f770-4fc2-e11e-4a14307a1b70",
        "colab": {
          "base_uri": "https://localhost:8080/"
        }
      },
      "outputs": [
        {
          "output_type": "execute_result",
          "data": {
            "text/plain": [
              "array([ 6, 15])"
            ]
          },
          "metadata": {},
          "execution_count": 13
        }
      ],
      "source": [
        "c[:,5]"
      ]
    },
    {
      "cell_type": "code",
      "execution_count": 14,
      "metadata": {
        "id": "DF1luMguXhAD",
        "outputId": "eba94bc7-33a9-438b-9f36-9ca08c38fdfe",
        "colab": {
          "base_uri": "https://localhost:8080/"
        }
      },
      "outputs": [
        {
          "output_type": "stream",
          "name": "stdout",
          "text": [
            "[12 14 16]\n"
          ]
        }
      ],
      "source": [
        "print(c[1,2:8:2])"
      ]
    },
    {
      "cell_type": "code",
      "execution_count": 15,
      "metadata": {
        "id": "Yptw1BAGXhAE",
        "outputId": "2824b879-9dd6-4755-8693-cd699c344d51",
        "colab": {
          "base_uri": "https://localhost:8080/"
        }
      },
      "outputs": [
        {
          "output_type": "stream",
          "name": "stdout",
          "text": [
            "[7]\n"
          ]
        }
      ],
      "source": [
        "print(c[0:1:1,6])"
      ]
    },
    {
      "cell_type": "code",
      "execution_count": 16,
      "metadata": {
        "id": "TfZFy5nnXhAE",
        "outputId": "a3e08545-d6b5-4bc8-a94b-7d664d43867a",
        "colab": {
          "base_uri": "https://localhost:8080/"
        }
      },
      "outputs": [
        {
          "output_type": "stream",
          "name": "stdout",
          "text": [
            "(3, 2, 2)\n"
          ]
        }
      ],
      "source": [
        "d = np.array([[[1,2],[3,4]],[[5,8],[11,12]],[[1,2],[3,4]]])\n",
        "print(d.shape)\n"
      ]
    },
    {
      "cell_type": "markdown",
      "metadata": {
        "id": "MNWvi_ePXhAE"
      },
      "source": [
        "Initializing matrix"
      ]
    },
    {
      "cell_type": "code",
      "execution_count": 17,
      "metadata": {
        "id": "kKIvO8fuXhAE",
        "outputId": "1030e9f2-64f6-478c-83dd-962ede53fd0b",
        "colab": {
          "base_uri": "https://localhost:8080/"
        }
      },
      "outputs": [
        {
          "output_type": "stream",
          "name": "stdout",
          "text": [
            "[[0. 0.]\n",
            " [0. 0.]]\n"
          ]
        }
      ],
      "source": [
        "print(np.zeros((2,2)))"
      ]
    },
    {
      "cell_type": "code",
      "execution_count": 18,
      "metadata": {
        "id": "Zn05I935XhAE",
        "outputId": "46d81d1f-13f1-48b6-f1d9-6a69abec4a72",
        "colab": {
          "base_uri": "https://localhost:8080/"
        }
      },
      "outputs": [
        {
          "output_type": "stream",
          "name": "stdout",
          "text": [
            "[[1 1 1]\n",
            " [1 1 1]]\n"
          ]
        }
      ],
      "source": [
        "print(np.ones((2,3),dtype=\"int32\"))"
      ]
    },
    {
      "cell_type": "code",
      "execution_count": 19,
      "metadata": {
        "id": "MxWKDepfXhAE",
        "outputId": "c9d13662-40f8-4dcd-e178-80063663f8db",
        "colab": {
          "base_uri": "https://localhost:8080/"
        }
      },
      "outputs": [
        {
          "output_type": "stream",
          "name": "stdout",
          "text": [
            "[[11 11 11 11 11]\n",
            " [11 11 11 11 11]]\n"
          ]
        }
      ],
      "source": [
        "print(np.full((2,5),11))"
      ]
    },
    {
      "cell_type": "code",
      "execution_count": 20,
      "metadata": {
        "id": "r9X_AqGBXhAE",
        "outputId": "4759b5cf-5643-45a0-e933-c11e0b7cebf8",
        "colab": {
          "base_uri": "https://localhost:8080/"
        }
      },
      "outputs": [
        {
          "output_type": "stream",
          "name": "stdout",
          "text": [
            "[[ 1  2  3  4  5  6  7  8  9]\n",
            " [ 0 11 12 13 14 15 16 17 18]]\n"
          ]
        }
      ],
      "source": [
        "print(c)"
      ]
    },
    {
      "cell_type": "code",
      "execution_count": 21,
      "metadata": {
        "id": "sxD6FrzUXhAE",
        "outputId": "819d8f05-30dd-481b-ceb3-9a69bd1d4e26",
        "colab": {
          "base_uri": "https://localhost:8080/"
        }
      },
      "outputs": [
        {
          "output_type": "stream",
          "name": "stdout",
          "text": [
            "[[7 7 7 7 7 7 7 7 7]\n",
            " [7 7 7 7 7 7 7 7 7]]\n"
          ]
        }
      ],
      "source": [
        "print(np.full_like(c,7))"
      ]
    },
    {
      "cell_type": "code",
      "execution_count": 22,
      "metadata": {
        "id": "UjFLB8sEXhAE",
        "outputId": "51c0cfa0-adef-474c-dc92-7945fe8d68b3",
        "colab": {
          "base_uri": "https://localhost:8080/"
        }
      },
      "outputs": [
        {
          "output_type": "stream",
          "name": "stdout",
          "text": [
            "[[ 1  2  3  4  5  6  7  8  9]\n",
            " [ 0 11 12 13 14 15 16 17 18]]\n"
          ]
        }
      ],
      "source": [
        "print(c)"
      ]
    },
    {
      "cell_type": "code",
      "execution_count": 23,
      "metadata": {
        "id": "pIOYyaUaXhAF",
        "outputId": "f2bc19ee-1c44-4679-a7b2-8b905252e94b",
        "colab": {
          "base_uri": "https://localhost:8080/"
        }
      },
      "outputs": [
        {
          "output_type": "stream",
          "name": "stdout",
          "text": [
            "[[9 9 9 9 9 9 9 9 9]\n",
            " [9 9 9 9 9 9 9 9 9]]\n"
          ]
        }
      ],
      "source": [
        "print(np.full(c.shape,9))"
      ]
    },
    {
      "cell_type": "code",
      "execution_count": 24,
      "metadata": {
        "id": "3ni-SBUGXhAF",
        "outputId": "caa40629-e984-4c7d-d1c8-63764e869637",
        "colab": {
          "base_uri": "https://localhost:8080/"
        }
      },
      "outputs": [
        {
          "output_type": "stream",
          "name": "stdout",
          "text": [
            "[[ 1  2  3  4  5  6  7  8  9]\n",
            " [ 0 11 12 13 14 15 16 17 18]]\n"
          ]
        }
      ],
      "source": [
        "print(c)"
      ]
    },
    {
      "cell_type": "code",
      "execution_count": 25,
      "metadata": {
        "id": "SMHLFAKYXhAF",
        "outputId": "4ebfe1fe-ace6-4d7d-cc6b-4d2e05ec1eb5",
        "colab": {
          "base_uri": "https://localhost:8080/"
        }
      },
      "outputs": [
        {
          "output_type": "execute_result",
          "data": {
            "text/plain": [
              "array([[0.20066103, 0.90305313],\n",
              "       [0.70679316, 0.14582453],\n",
              "       [0.46124061, 0.50248411],\n",
              "       [0.51075882, 0.94222708]])"
            ]
          },
          "metadata": {},
          "execution_count": 25
        }
      ],
      "source": [
        "np.random.rand(4,2)"
      ]
    },
    {
      "cell_type": "code",
      "execution_count": 26,
      "metadata": {
        "id": "guYxw_mEXhAF",
        "outputId": "3f8b69fd-6bd5-4b07-c463-c4f24a7d8a49",
        "colab": {
          "base_uri": "https://localhost:8080/"
        }
      },
      "outputs": [
        {
          "output_type": "stream",
          "name": "stdout",
          "text": [
            "[[0.30904185 0.02393756]\n",
            " [0.83479228 0.85049989]\n",
            " [0.85944481 0.64193382]\n",
            " [0.61790241 0.99422346]]\n"
          ]
        }
      ],
      "source": [
        "print(np.random.rand(4,2))"
      ]
    },
    {
      "cell_type": "code",
      "execution_count": 27,
      "metadata": {
        "id": "Y0BCpoqyXhAF",
        "outputId": "8f6cbd09-e163-4db0-a8f2-73ba7542b354",
        "colab": {
          "base_uri": "https://localhost:8080/"
        }
      },
      "outputs": [
        {
          "output_type": "stream",
          "name": "stdout",
          "text": [
            "[[0.32082752 0.8870464  0.56155345 0.34932711 0.25493679 0.8187094\n",
            "  0.57415034 0.2410029  0.79370077]\n",
            " [0.69337537 0.32689854 0.86564531 0.09537806 0.53973925 0.33857304\n",
            "  0.24965942 0.57944329 0.55685965]]\n"
          ]
        }
      ],
      "source": [
        "print(np.random.random_sample(c.shape))"
      ]
    },
    {
      "cell_type": "code",
      "execution_count": 28,
      "metadata": {
        "id": "et_1kEoaXhAF",
        "outputId": "b21127d3-61b4-43ee-9205-61ccaaaacd8a",
        "colab": {
          "base_uri": "https://localhost:8080/"
        }
      },
      "outputs": [
        {
          "output_type": "stream",
          "name": "stdout",
          "text": [
            "[1 8]\n"
          ]
        }
      ],
      "source": [
        "print(np.random.randint(c.shape))"
      ]
    },
    {
      "cell_type": "code",
      "execution_count": 29,
      "metadata": {
        "id": "eTZMv4wZXhAF",
        "outputId": "fbbbbf11-cbb6-48e7-982e-1b5c622465c6",
        "colab": {
          "base_uri": "https://localhost:8080/"
        }
      },
      "outputs": [
        {
          "output_type": "stream",
          "name": "stdout",
          "text": [
            "[[ 1.03766685 -0.7265232  -0.46606157]\n",
            " [ 0.66729302  1.31418497  0.59868085]]\n"
          ]
        }
      ],
      "source": [
        "print(np.random.randn(2,3))"
      ]
    },
    {
      "cell_type": "markdown",
      "metadata": {
        "id": "cqfN0w-uXhAF"
      },
      "source": [
        "To print Random of integers in numpy"
      ]
    },
    {
      "cell_type": "code",
      "execution_count": 30,
      "metadata": {
        "id": "NifjSjYaXhAF",
        "outputId": "70d0973c-7b2d-45f9-e01d-d2c3d78e1d8f",
        "colab": {
          "base_uri": "https://localhost:8080/"
        }
      },
      "outputs": [
        {
          "output_type": "stream",
          "name": "stdout",
          "text": [
            "[[3 4 4 4]\n",
            " [4 4 4 3]\n",
            " [2 2 2 4]]\n"
          ]
        }
      ],
      "source": [
        "# random.randint(start_value,End_value,size of the matrix)\n",
        "print(np.random.randint(2,5,size=(3,4)))"
      ]
    },
    {
      "cell_type": "code",
      "execution_count": 31,
      "metadata": {
        "id": "q9OM52aMXhAF",
        "outputId": "370052e3-42ec-41cf-e36d-9c1dbf241b0c",
        "colab": {
          "base_uri": "https://localhost:8080/"
        }
      },
      "outputs": [
        {
          "output_type": "stream",
          "name": "stdout",
          "text": [
            "[[17  1  9  7  8 12 17]\n",
            " [ 3 10 15  7  6 18  9]\n",
            " [ 0 18  6 12  8  8  2]]\n"
          ]
        }
      ],
      "source": [
        "print(np.random.randint(19,size=(3,7)))"
      ]
    },
    {
      "cell_type": "code",
      "execution_count": 32,
      "metadata": {
        "id": "Y15Sb8boXhAF",
        "outputId": "7b72fb92-df96-402a-8f0d-65c559c1863c",
        "colab": {
          "base_uri": "https://localhost:8080/"
        }
      },
      "outputs": [
        {
          "output_type": "stream",
          "name": "stdout",
          "text": [
            "[1 2 3]\n",
            "[[1 2 3]\n",
            " [4 5 6]]\n",
            "[[ 1  2  3  4  5  6  7  8  9]\n",
            " [ 0 11 12 13 14 15 16 17 18]]\n",
            "[[[ 1  2]\n",
            "  [ 3  4]]\n",
            "\n",
            " [[ 5  8]\n",
            "  [11 12]]\n",
            "\n",
            " [[ 1  2]\n",
            "  [ 3  4]]]\n"
          ]
        }
      ],
      "source": [
        "print(a)\n",
        "print(b)\n",
        "print(c)\n",
        "print(d)"
      ]
    },
    {
      "cell_type": "code",
      "source": [],
      "metadata": {
        "id": "UFIbIsKjXjJy"
      },
      "execution_count": 32,
      "outputs": []
    }
  ],
  "metadata": {
    "colab": {
      "provenance": [],
      "include_colab_link": true
    },
    "kernelspec": {
      "display_name": "Python 3",
      "name": "python3"
    },
    "language_info": {
      "codemirror_mode": {
        "name": "ipython",
        "version": 3
      },
      "file_extension": ".py",
      "mimetype": "text/x-python",
      "name": "python",
      "nbconvert_exporter": "python",
      "pygments_lexer": "ipython3",
      "version": "3.11.0"
    }
  },
  "nbformat": 4,
  "nbformat_minor": 0
}