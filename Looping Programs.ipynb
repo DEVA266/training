{
 "cells": [
  {
   "cell_type": "markdown",
   "id": "d91e6566-293b-44a9-bd10-ed317c53ad9d",
   "metadata": {},
   "source": [
    "## LOOPING STATEMENTS\n",
    "Python programming loops are instructions to repeat something multiple times until a specific condition is met. A loop command can run either a single or several statements repeatedly. \n",
    "\n",
    "Python supports various loops to satisfy different looping requirements. There are three primary choices for loops. Although they share standardon basic functionality, their syntax and time needed for checking the condition differ. "
   ]
  },
  {
   "cell_type": "markdown",
   "id": "ffeddec3-cc1e-44fe-9e7e-04fbeda49c90",
   "metadata": {},
   "source": [
    "### Types of Loops in Python\n",
    "Below, we have listed and discussed different loops in Python, along with the syntax and examples of each:\n",
    "\n",
    "1. While Loops in Python - Repeats the given statement or group of statements until the given condition is true. **The while loop programs in Python test the condition before executing the loop body**.\n",
    "2. For Loops in Python - Executes a code block multiple times. It abbreviates the code managing the loop variable.\n",
    "3. Nested Loops in Python - Allows to iterate a loop inside another loop."
   ]
  },
  {
   "attachments": {
    "image.png": {
     "image/png": "[encoded data removed]"
    }
   },
   "cell_type": "markdown",
   "id": "9fc560de",
   "metadata": {},
   "source": [
    "### While Loops in Python \n",
    "\n",
    "It is used in Python programming to execute a block of statements until the given condition is true. \n",
    "\n",
    "Once the condition is evaluated as false, the program executes the line immediately after the loop. \n",
    "\n",
    "**While Loop in Python Syntax**\n",
    "\n",
    "![image.png](attachment:image.png)"
   ]
  },
  {
   "cell_type": "code",
   "execution_count": 1,
   "id": "7dcf2c6e",
   "metadata": {},
   "outputs": [
    {
     "name": "stdout",
     "output_type": "stream",
     "text": [
      "1\n",
      "2\n",
      "3\n",
      "4\n",
      "5\n"
     ]
    }
   ],
   "source": [
    "count = 1\n",
    "while count <= 5:\n",
    "    print(count)\n",
    "    count += 1"
   ]
  },
  {
   "attachments": {
    "image.png": {
     "image/png": "[encoded data removed]"
    }
   },
   "cell_type": "markdown",
   "id": "6c8f555d",
   "metadata": {},
   "source": [
    "**Using the else Statement with While Loop in Python**\n",
    "\n",
    "The program executes the else clause only when the while condition is false. It won't be executed if an exception occurs or the loop breaks out. \n",
    "\n",
    "![image.png](attachment:image.png)"
   ]
  },
  {
   "cell_type": "code",
   "execution_count": 3,
   "id": "ae99cca6",
   "metadata": {},
   "outputs": [
    {
     "name": "stdout",
     "output_type": "stream",
     "text": [
      "1\n",
      "2\n",
      "3\n",
      "4\n",
      "5\n",
      "Loop completed without interruption.\n"
     ]
    }
   ],
   "source": [
    "count = 1\n",
    "while count <= 5:\n",
    "    print(count)\n",
    "    count += 1\n",
    "else:\n",
    "    print(\"Loop completed without interruption.\")"
   ]
  },
  {
   "cell_type": "markdown",
   "id": "5cfd6896",
   "metadata": {},
   "source": [
    "**Infinite While Loop in Python**\n",
    "\n",
    "When we want to execute a code block infinitely, we use the infinite while loop in Python. The code assesses the while loop with the condition. As long as the count is 0, the loop will run. As we set the count to 0 in the beginning, the loop will run indefinitely as the condition is true. "
   ]
  },
  {
   "cell_type": "code",
   "execution_count": null,
   "id": "8ff855ec",
   "metadata": {},
   "outputs": [],
   "source": [
    "count = 0\n",
    "while (count == 0):\n",
    "    print(\"Infinite Loop\")"
   ]
  },
  {
   "attachments": {
    "image.png": {
     "image/png": "[encoded data removed]"
    }
   },
   "cell_type": "markdown",
   "id": "d250868c",
   "metadata": {},
   "source": [
    "### For Loops in Python \n",
    "\n",
    "We use the for loop program in Python for sequential traversal. \n",
    "\n",
    "It is designed to iterate over a sequence, such as a list, dictionary, tuple, set, and string. \n",
    "\n",
    "Iteration is the process of traversing a sequence. \n",
    "\n",
    "![image.png](attachment:image.png)\n",
    "\n",
    "- The **iterator_var** rakes the value of each element from the sequence on each iteration. \n",
    "- Once it takes the value, the loop body is executed. \n",
    "- The for loop continues until it reaches the last item in the sequence. "
   ]
  },
  {
   "cell_type": "code",
   "execution_count": 4,
   "id": "ba0b002f",
   "metadata": {},
   "outputs": [
    {
     "name": "stdout",
     "output_type": "stream",
     "text": [
      "1\n",
      "2\n",
      "3\n",
      "4\n",
      "5\n"
     ]
    }
   ],
   "source": [
    "for number in range(1,10):\n",
    "    print(number)"
   ]
  },
  {
   "cell_type": "markdown",
   "id": "89dbdce5",
   "metadata": {},
   "source": [
    "**Iterating by the Index of Sequences**\n",
    "\n",
    "We can iterate by using the index of elements in a sequence. This begins by calculating the list length and iterates over a sequence within the range of the length. "
   ]
  },
  {
   "cell_type": "code",
   "execution_count": 5,
   "id": "c22fc2ec",
   "metadata": {},
   "outputs": [
    {
     "name": "stdout",
     "output_type": "stream",
     "text": [
      "apple\n",
      "mango\n",
      "orange\n"
     ]
    }
   ],
   "source": [
    "li = [\"apple\", \"mango\", \"orange\"]\n",
    "for i in range(len(li)):\n",
    "    print(li[i])\n"
   ]
  },
  {
   "cell_type": "markdown",
   "id": "0863715e",
   "metadata": {},
   "source": [
    "#### Using else Statement with for Loop in Python\n",
    "\n",
    "Python allows the combination of the else statement with the for loop. \n",
    "\n",
    "The for loop doesn’t contain any condition based on which the execution will stop. \n",
    "\n",
    "Hence, the code within the else block will run once the for loop finishes the iterations. \n",
    "\n",
    "Once the execution is complete, the else statement is used. \n",
    "\n",
    "**If we exit the loop or there is an error, it won’t execute the code block.**\n",
    "\n",
    "**If the break statement abruptly ends the for loop, the else block is bypassed.**\n",
    "\n",
    "So, the else statement is executed only when the loop ends without the break statement. "
   ]
  },
  {
   "attachments": {
    "image.png": {
     "image/png": "[encoded data removed]"
    }
   },
   "cell_type": "markdown",
   "id": "721c05d3",
   "metadata": {},
   "source": [
    "###  Nested Loops in Python\n",
    "\n",
    "In Python, the nested loop refers to using a loop within another loop. \n",
    "\n",
    "Every single iteration of the outer loop has an inner loop executing its iterations. \n",
    "\n",
    "For example, if the outer loop has **a** and the inner loop has **b** iterations, **the total iterations will be a x b.**\n",
    "\n",
    "This means that **for every outer loop iteration**, **the inner loop executes b times**. \n",
    "\n",
    "![image.png](attachment:image.png)"
   ]
  },
  {
   "cell_type": "markdown",
   "id": "09f6b114",
   "metadata": {},
   "source": [
    "## Loop Control Statements in Python\n",
    "\n",
    "Looping control statements in Python change the sequence of execution. \n",
    "Once execution leaves the scope, the objects created in the same scope are also destroyed automatically. \n",
    "\n",
    "### Continue Statement\n",
    "\n",
    "The continue loop control statement in Python is used to stop the iteration of the loop based on a certain condition and **returns control to the beginning of the loop with the next iteration**. \n",
    "\n",
    "We don’t need to mention a condition with the continue statement. \n",
    "\n",
    "However, in the for loop, its condition can skip statements in specific iterations. "
   ]
  },
  {
   "cell_type": "code",
   "execution_count": 8,
   "id": "3f3f22a9",
   "metadata": {},
   "outputs": [
    {
     "name": "stdout",
     "output_type": "stream",
     "text": [
      "1 3 5 7 9 11 13 15 17 19 21 23 25 27 29 31 33 35 37 39 41 43 45 47 49 "
     ]
    }
   ],
   "source": [
    "#it skips the even number from 1 to 49\n",
    "for number in range(50):\n",
    "    if number % 2 == 0:\n",
    "        continue\n",
    "    print(number, end = \" \")"
   ]
  },
  {
   "cell_type": "markdown",
   "id": "36187316",
   "metadata": {},
   "source": [
    "### Break Statement\n",
    "\n",
    "The break statement is also used in control loops in Python to **stop the loop or bring the control out of the loop before it ends**. \n",
    "\n",
    "We can end the for loop execution based on certain conditions. \n",
    "\n",
    "When a condition is encountered, the break statement takes the control out of the loop. \n",
    "\n",
    "We can also use this statement without any conditions. \n",
    "\n",
    "However, in the case of the for loop, we add conditions based on the program logic when we want to come out of the loop. "
   ]
  },
  {
   "cell_type": "code",
   "execution_count": 21,
   "id": "0c365814",
   "metadata": {},
   "outputs": [
    {
     "name": "stdout",
     "output_type": "stream",
     "text": [
      "1,2,3,4,5,6,7,8,9,10,11,\n",
      "\n",
      " 12 is divisble by 12\n",
      "Loop is terminated.\n"
     ]
    }
   ],
   "source": [
    "for number in range(1,20):\n",
    "    if number % 12 == 0:\n",
    "        print(\"\\n\\n\",number,\"is divisble by 12\")\n",
    "        break\n",
    "    print(number,end = \",\")\n",
    "print(\"Loop is terminated.\")"
   ]
  },
  {
   "cell_type": "markdown",
   "id": "31462e50",
   "metadata": {},
   "source": [
    "### Pass Statement\n",
    "\n",
    "Using the pass statement in Python, **we can write empty loops**. \n",
    "\n",
    "**We can’t leave the indentation block of the for loop blank**, as it can cause an error. \n",
    "\n",
    "So, we use the pass statement if we need to leave the loop blank in any condition. \n",
    "\n",
    "The pass statement tells the loop to execute normally. \n",
    "\n",
    "Once all the iterations are complete, the control comes out of the loop. \n",
    "\n",
    "We also use the pass statement for empty control functions, statements, and classes. "
   ]
  },
  {
   "cell_type": "code",
   "execution_count": 22,
   "id": "82ed9d48",
   "metadata": {},
   "outputs": [
    {
     "name": "stdout",
     "output_type": "stream",
     "text": [
      "1  3  5  7  9  11  13  15  17  19  "
     ]
    }
   ],
   "source": [
    "for number in range(20):\n",
    "    if number % 2 == 0:\n",
    "        # Placeholder for future code\n",
    "        pass\n",
    "    else:\n",
    "        print(number,end = \"  \")"
   ]
  },
  {
   "cell_type": "code",
   "execution_count": 52,
   "id": "01d0a796",
   "metadata": {},
   "outputs": [
    {
     "name": "stdout",
     "output_type": "stream",
     "text": [
      "1 0\n",
      "2 0\n",
      "2 1\n",
      "3 0\n",
      "3 1\n",
      "3 2\n"
     ]
    }
   ],
   "source": [
    "#Using the Break Statement in Python Nested Loops\n",
    "\n",
    "for i in range(4):\n",
    "    for j in range(4):\n",
    "        if j == i:\n",
    "            break\n",
    "        print(i, j)"
   ]
  },
  {
   "cell_type": "code",
   "execution_count": 53,
   "id": "517e938a",
   "metadata": {},
   "outputs": [
    {
     "name": "stdout",
     "output_type": "stream",
     "text": [
      "1 * 2 =  2\n",
      "1 * 3 =  3\n",
      "1 * 4 =  4\n",
      "2 * 1 =  2\n",
      "2 * 3 =  6\n",
      "2 * 4 =  8\n",
      "3 * 1 =  3\n",
      "3 * 2 =  6\n",
      "3 * 4 =  12\n",
      "4 * 1 =  4\n",
      "4 * 2 =  8\n",
      "4 * 3 =  12\n"
     ]
    }
   ],
   "source": [
    "#Using the Continue Statement in Nested Loops\n",
    "\n",
    "for i in range(1,5):\n",
    "    for j in range(1,5):\n",
    "        if i == j:\n",
    "            continue\n",
    "        print(i, '*', j, '= ', i * j)"
   ]
  },
  {
   "cell_type": "code",
   "execution_count": 54,
   "id": "76a4c1c1",
   "metadata": {},
   "outputs": [
    {
     "name": "stdout",
     "output_type": "stream",
     "text": [
      "\t\t1 * 2 =  2\t1 * 3 =  3\t1 * 4 =  4\t\n",
      "2 * 1 =  2\t\t\t2 * 3 =  6\t2 * 4 =  8\t\n",
      "3 * 1 =  3\t3 * 2 =  6\t\t\t3 * 4 =  12\t\n",
      "4 * 1 =  4\t4 * 2 =  8\t4 * 3 =  12\t\t\t\n"
     ]
    }
   ],
   "source": [
    "#Using the Continue Statement in Nested Loops\n",
    "\n",
    "for i in range(1,5):\n",
    "    for j in range(1,5):\n",
    "        if i == j:\n",
    "            print(\"\\t\",end = \"\\t\")\n",
    "            continue\n",
    "        print(i, '*', j, '= ', i * j,end = \"\\t\")\n",
    "    print()"
   ]
  },
  {
   "cell_type": "markdown",
   "id": "bbc98b39",
   "metadata": {},
   "source": [
    "#### Write a program to display the **count of even and odd numbers in a given range.**\n",
    "\n",
    "Sample Input \n",
    "\n",
    "Start: 20 <br>\n",
    "End : 50\n",
    "(inclusive of 20 and 50)\n",
    "\n",
    "Sample Output:\n",
    "\n",
    "Even : 16<br>\n",
    "Odd : 15"
   ]
  },
  {
   "cell_type": "code",
   "execution_count": 3,
   "id": "50eca46e",
   "metadata": {},
   "outputs": [
    {
     "name": "stdout",
     "output_type": "stream",
     "text": [
      "Enter the starting number of the range: 20\n",
      "Enter the ending number of the range: 50\n",
      "Even Numbers =  16\n",
      "Odd Numbers =  15\n"
     ]
    }
   ],
   "source": [
    "start = int(input(\"Enter the starting number of the range: \"))\n",
    "end = int(input(\"Enter the ending number of the range: \"))\n",
    "even_c = odd_c = 0\n",
    "for x in range(start,end+1):\n",
    "    if x%2 == 0:\n",
    "        even_c = even_c + 1\n",
    "    else:\n",
    "        odd_c = odd_c + 1\n",
    "\n",
    "print(\"Even Numbers = \",even_c)\n",
    "print(\"Odd Numbers = \",odd_c)"
   ]
  },
  {
   "cell_type": "markdown",
   "id": "28447aad",
   "metadata": {},
   "source": [
    "#### Program Explanation\n",
    "\n",
    "1. getting the starting and ending range as integers\n",
    "2. As we need two variables to count even and odd numbers, initialized even_c and odd_c to **'0'**.\n",
    "3. Since start and ending range are known here we use for loop\n",
    "4. range function (start = 20 and end = 51), it will generate a list as [20,21,22,.....,50]\n",
    "5. x is a loop variable which will traversing through all the elements one by one\n",
    "6. each number is checked, whether divisible by 2 or not, if divisible will increment the even_c, else the number will be odd will increment odd_c\n",
    "7. Finally display the even_c and odd_c"
   ]
  },
  {
   "cell_type": "markdown",
   "id": "5b8e34fc",
   "metadata": {},
   "source": [
    "#### Write a program to display the **factors of a given number.** \n",
    "\n",
    "Sample Input\n",
    "\n",
    "56\n",
    "\n",
    "Sample output\n",
    "\n",
    "1, 2, 4, 7, 8, 14, 28, 56"
   ]
  },
  {
   "cell_type": "code",
   "execution_count": 7,
   "id": "dc10f255",
   "metadata": {},
   "outputs": [
    {
     "name": "stdout",
     "output_type": "stream",
     "text": [
      "Enter the number: 56\n",
      "The factors of  56 are -  1, 2, 4, 7, 8, 14, 28, 56, "
     ]
    }
   ],
   "source": [
    "n = int(input(\"Enter the number: \"))\n",
    "print(\"The factors of \",n,\"are - \",end = \" \")\n",
    "for x in range(1,n+1):     ### --> factor of a number is that divides the number evenly or exactly. here it check the divisiblity from 1 to the given number\n",
    "    if n%x == 0:   ## x will traverse from 1 to n, now will check whether n is divisble by number starting from 1 and proceed one by one\n",
    "        print(x,end = \", \") ## if the number is exactly divided then reminder will be \"zero\", then will display the x"
   ]
  },
  {
   "cell_type": "markdown",
   "id": "a8225378",
   "metadata": {},
   "source": [
    "### Prime Number \n",
    "\n",
    "Prime number which is divisble by 1 and the number itself. \n",
    "\n",
    "Therefore the factors of prime number will always be **\"2\"**.\n",
    "\n",
    "So to find the prime number, first will find the factor of a number if the factor count is 2 or less that 2 then it is a prime number."
   ]
  },
  {
   "cell_type": "code",
   "execution_count": 10,
   "id": "40790c5f",
   "metadata": {},
   "outputs": [
    {
     "name": "stdout",
     "output_type": "stream",
     "text": [
      "Enter the number: 5\n",
      "It is a Prime Number\n"
     ]
    }
   ],
   "source": [
    "n = int(input(\"Enter the number: \"))\n",
    "factor_count = 0\n",
    "#copy the above code to find the factor of a number, changing only the print statment to count statement\n",
    "for x in range(1,n+1):\n",
    "    if n%x == 0:\n",
    "        factor_count = factor_count + 1\n",
    "\n",
    "#now check whether the factor_count is less than or equal to 2, then it is a prime number\n",
    "\n",
    "if factor_count <= 2:\n",
    "    print(\"It is a Prime Number\")\n",
    "else:\n",
    "    print(\"Not a prime Number\")"
   ]
  },
  {
   "cell_type": "markdown",
   "id": "9f5b5e78",
   "metadata": {},
   "source": [
    "#### Display Prime Number in a specifed range\n",
    "The above code find for one specific number, now have to check for all the numbers in the given range.\n",
    "Copy the above code first.\n",
    "\n",
    "Now add one outer loop that is used to traverse the numbers from starting to end.\n"
   ]
  },
  {
   "cell_type": "code",
   "execution_count": 10,
   "id": "889bb974",
   "metadata": {
    "scrolled": true
   },
   "outputs": [
    {
     "name": "stdout",
     "output_type": "stream",
     "text": [
      "Enter the first number: 1\n",
      "Enter the second number: 20\n",
      "2\n",
      "3\n",
      "5\n",
      "7\n",
      "11\n",
      "13\n",
      "17\n",
      "19\n"
     ]
    }
   ],
   "source": [
    "start = int(input(\"Enter the first number: \"))\n",
    "end = int(input(\"Enter the second number: \"))\n",
    "\n",
    "for i in range(start,end+1): ##--> this loop used to traverse from starting to ending\n",
    "    factor_count = 0\n",
    "    if i == 1:\n",
    "        continue\n",
    "    for x in range(2,i+1): ## for example if i = 5, we need to check for factors from 1 to 5, i = 10, need to check from 1 to 10\n",
    "        if i%x == 0:\n",
    "            factor_count = factor_count + 1\n",
    "\n",
    "#now check whether the factor_count is less than or equal to 2, then it is a prime number\n",
    "\n",
    "    if factor_count < 2:\n",
    "        print(i) ## display the i value which contain "
   ]
  },
  {
   "cell_type": "markdown",
   "id": "309e17bb",
   "metadata": {},
   "source": [
    "#### Prime Number printing Method 2"
   ]
  },
  {
   "cell_type": "code",
   "execution_count": 18,
   "id": "f02f6602",
   "metadata": {},
   "outputs": [
    {
     "name": "stdout",
     "output_type": "stream",
     "text": [
      "Enter the first number: 10\n",
      "Enter the second number: 30\n",
      "11\n",
      "13\n",
      "17\n",
      "19\n",
      "23\n",
      "29\n"
     ]
    }
   ],
   "source": [
    "start = int(input(\"Enter the first number: \"))\n",
    "end = int(input(\"Enter the second number: \"))\n",
    "\n",
    "for i in range(start,end+1): ##--> this loop used to traverse from starting to ending\n",
    "    factor_count = 0\n",
    "    if i == 1:\n",
    "        continue\n",
    "    for x in range(2,(i//2)+1): ## for example if i = 5, we need to check for factors from 1 to 5, i = 10, need to check from 1 to 10\n",
    "        if i%x == 0:\n",
    "            factor_count = factor_count + 1\n",
    "\n",
    "#now check whether the factor_count is less than or equal to 2, then it is a prime number\n",
    "\n",
    "    if factor_count < 1:\n",
    "        print(i) ## display the i value which contain "
   ]
  },
  {
   "cell_type": "markdown",
   "id": "a285072d",
   "metadata": {},
   "source": [
    "#### Write a program to display the multiplication table as below \n",
    "\n",
    "Sample Input \n",
    "\n",
    "5\n",
    "\n",
    "Sample Output\n",
    "\n",
    "5 * 1 = 5<br>\n",
    "5 * 2 = 10<br>\n",
    ".<br>\n",
    ".<br>\n",
    "5 * 10 = 50\n"
   ]
  },
  {
   "cell_type": "code",
   "execution_count": 16,
   "id": "e438c864",
   "metadata": {},
   "outputs": [
    {
     "name": "stdout",
     "output_type": "stream",
     "text": [
      "5 * 1 = 5\n",
      "5 * 2 = 10\n",
      "5 * 3 = 15\n",
      "5 * 4 = 20\n",
      "5 * 5 = 25\n",
      "5 * 6 = 30\n",
      "5 * 7 = 35\n",
      "5 * 8 = 40\n",
      "5 * 9 = 45\n",
      "5 * 10 = 50\n"
     ]
    }
   ],
   "source": [
    "for i in range(1,11):\n",
    "    print(5, \"*\", i, \"=\", 5*i)\n",
    "    #print(\"5 * {} = {}\".format(i,5*i))"
   ]
  },
  {
   "cell_type": "markdown",
   "id": "6aea7d1e",
   "metadata": {},
   "source": [
    "### print first 8 numbers in the fibonacci series"
   ]
  },
  {
   "cell_type": "code",
   "execution_count": 26,
   "id": "667c3739-b76a-444b-a80a-01091ed75211",
   "metadata": {},
   "outputs": [
    {
     "name": "stdout",
     "output_type": "stream",
     "text": [
      "0 , 1, 1 ,2 ,3 ,5 ,8 ,13 ,"
     ]
    }
   ],
   "source": [
    "#print first 8 numbers in the fibonacci series\n",
    "#0,1,1,2,3,5,8,13\n",
    "_1s = 0 \n",
    "_2s = 1\n",
    "print(_1s,\",\",_2s,end=\", \")\n",
    "for i in range (3,9):\n",
    "    _3s = _1s + _2s\n",
    "    _1s = _2s\n",
    "    _2s = _3s\n",
    "    print(_3s,end=\" ,\")"
   ]
  },
  {
   "cell_type": "markdown",
   "id": "6ddf90fd",
   "metadata": {},
   "source": [
    "#### Write a program to display the multiplication table as below with a given range\n",
    "\n",
    "Sample Input\n",
    "\n",
    "Start Table : 5<br>\n",
    "End Table: 8<br>\n",
    "\n",
    "Sample Output\n",
    "\n",
    "5 * 1 = 5 &emsp; 6 * 1 = 6 &emsp; 7 * 1 = 7 &emsp; 8 * 1 = 8 <br>\n",
    "5 * 2 = 10 &emsp; 6 * 2 = 12 &emsp; 7 * 2 = 14 &emsp; 8 * 2 = 16<br>\n",
    ".<br>\n",
    ".<br>\n",
    "5 * 10 = 50\t\t\n"
   ]
  },
  {
   "cell_type": "code",
   "execution_count": null,
   "id": "f199cd26",
   "metadata": {},
   "outputs": [],
   "source": [
    "start = int(input(\"Starting: \"))\n",
    "end = int(input(\"ending: \"))\n",
    "\n",
    "for i in range(1,11):\n",
    "    for r in range(start,end+1):\n",
    "        print(r, \"*\",i,\"=\",r * i,end = \"\\t\")\n",
    "    print()"
   ]
  },
  {
   "cell_type": "code",
   "execution_count": 38,
   "id": "79eb738f",
   "metadata": {},
   "outputs": [
    {
     "name": "stdout",
     "output_type": "stream",
     "text": [
      "5 * 1 = 5\t6 * 1 = 6\t\n",
      "5 * 2 = 10\t6 * 2 = 12\t\n",
      "5 * 3 = 15\t6 * 3 = 18\t\n",
      "5 * 4 = 20\t6 * 4 = 24\t\n",
      "5 * 5 = 25\t6 * 5 = 30\t\n",
      "5 * 6 = 30\t6 * 6 = 36\t\n",
      "5 * 7 = 35\t6 * 7 = 42\t\n",
      "5 * 8 = 40\t6 * 8 = 48\t\n",
      "5 * 9 = 45\t6 * 9 = 54\t\n",
      "5 * 10 = 50\t6 * 10 = 60\t\n"
     ]
    }
   ],
   "source": [
    "start = int(input(\"Starting: \"))\n",
    "end = int(input(\"ending: \"))\n",
    "\n",
    "for i in range(1,11):\n",
    "    for r in range(start,end+1):\n",
    "        print(r, \"*\", i, \"=\", r*i,end = \"\\t\")\n",
    "    print()"
   ]
  },
  {
   "cell_type": "markdown",
   "id": "ef1234f7",
   "metadata": {},
   "source": [
    "#### Write a program to display the multiplication table as below with a given range\n",
    "\n",
    "Sample Input<br>\n",
    "Start Table : 5<br>\n",
    "End Table: 8<br>\n",
    "\n",
    "Sample Output:<br>\n",
    "5 * 1 = 5<br>\n",
    ".<br>\n",
    ".<br>\n",
    "5 * 5 = 25<br>\n",
    "6 * 1 = 6<br>\n",
    ".<br>\n",
    ".<br>\n",
    ".<br>\n",
    "6 * 6=36<br>\n",
    "7 * 1=7<br>\n",
    ".<br>\n",
    ".<br>\n",
    ".<br>\n",
    "7 * 7=49<br>\n",
    "8 * 1=8<br>\n",
    ".<br>\n",
    ".<br>\n",
    "8 * 8=64<br>\n"
   ]
  },
  {
   "cell_type": "code",
   "execution_count": null,
   "id": "2e9fffcb",
   "metadata": {},
   "outputs": [],
   "source": [
    "start = int(input(\"Starting: \"))\n",
    "end = int(input(\"ending: \"))\n",
    "\n",
    "for r in range(start,end+1):\n",
    "    for i in range(1,11):\n",
    "        if i > r:\n",
    "            break\n",
    "        print(r, \"*\", i, \"=\", r*i)"
   ]
  },
  {
   "cell_type": "code",
   "execution_count": 40,
   "id": "2057cbb4",
   "metadata": {},
   "outputs": [
    {
     "name": "stdout",
     "output_type": "stream",
     "text": [
      "5 * 1 = 5\t6 * 1 = 6\t7 * 1 = 7\t8 * 1 = 8\t9 * 1 = 9\t\n",
      "5 * 2 = 10\t6 * 2 = 12\t7 * 2 = 14\t8 * 2 = 16\t9 * 2 = 18\t\n",
      "5 * 3 = 15\t6 * 3 = 18\t7 * 3 = 21\t8 * 3 = 24\t9 * 3 = 27\t\n",
      "5 * 4 = 20\t6 * 4 = 24\t7 * 4 = 28\t8 * 4 = 32\t9 * 4 = 36\t\n",
      "\t\t6 * 5 = 30\t7 * 5 = 35\t8 * 5 = 40\t9 * 5 = 45\t\n",
      "5 * 6 = 30\t\t\t7 * 6 = 42\t8 * 6 = 48\t9 * 6 = 54\t\n",
      "5 * 7 = 35\t6 * 7 = 42\t\t\t8 * 7 = 56\t9 * 7 = 63\t\n",
      "5 * 8 = 40\t6 * 8 = 48\t7 * 8 = 56\t\t\t9 * 8 = 72\t\n",
      "5 * 9 = 45\t6 * 9 = 54\t7 * 9 = 63\t8 * 9 = 72\t\t\t\n",
      "5 * 10 = 50\t6 * 10 = 60\t7 * 10 = 70\t8 * 10 = 80\t9 * 10 = 90\t\n"
     ]
    }
   ],
   "source": [
    "start = int(input(\"Starting: \"))\n",
    "end = int(input(\"ending: \"))\n",
    "\n",
    "for i in range(1,11):\n",
    "    for r in range(start,end+1):\n",
    "        if i == r:\n",
    "            print(end = \"\\t\\t\")\n",
    "            continue\n",
    "        print(r, \"*\", i, \"=\", r*i,end = \"\\t\")\n",
    "    print()"
   ]
  },
  {
   "cell_type": "markdown",
   "id": "c673ae4c",
   "metadata": {},
   "source": [
    "#### Write a program that displays a temperature conversion table  for degrees Celsius and degrees Fahrenheit. \n",
    "\n",
    "The table should include rows for all temperatures between 0 and 100 degrees Celsius that are multiples of 10 degrees Celsius. Include appropriate headings on your columns. The formula for converting between degrees Celsius and degrees Fahrenheit\n",
    "\n",
    "**F = C×(9/5)+32**\n",
    "\n",
    "Sample Output \n",
    "\n",
    "Celsius &ensp; Fahrenheit <br>\n",
    "    0 &emsp; 32.0 <br>\n",
    "    10 &emsp; 50.0 <br>\n",
    "    20 &emsp; 68.0 <br>\n",
    "    30 &emsp; 86.0 <br>\n",
    "    40 &emsp; 104.0 <br>\n",
    "    50 &emsp; 122.0 <br>\n",
    "    60 &emsp; 140.0 <br>\n",
    "    70 &emsp; 158.0 <br>\n",
    "    50 &emsp; 176.0 <br>\n",
    "    90 &emsp; 194.0 <br>\n",
    "    100 &emsp; 212.0\n"
   ]
  },
  {
   "cell_type": "code",
   "execution_count": 41,
   "id": "8b2d49a8",
   "metadata": {},
   "outputs": [
    {
     "name": "stdout",
     "output_type": "stream",
     "text": [
      "Celsius\tFahrenheit\n",
      "0 \t 32.0\n",
      "10 \t 50.0\n",
      "20 \t 68.0\n",
      "30 \t 86.0\n",
      "40 \t 104.0\n",
      "50 \t 122.0\n",
      "60 \t 140.0\n",
      "70 \t 158.0\n",
      "80 \t 176.0\n",
      "90 \t 194.0\n",
      "100 \t 212.0\n"
     ]
    }
   ],
   "source": [
    "print(\"Celsius\\tFahrenheit\")\n",
    "for c in range(0,101,10):\n",
    "    f = c * (9/5) + 32\n",
    "    print(\"{} \\t {}\".format(c,f))"
   ]
  },
  {
   "cell_type": "markdown",
   "id": "9e2ca44e",
   "metadata": {},
   "source": [
    "### Write a program to count the number of digits in a given number"
   ]
  },
  {
   "cell_type": "code",
   "execution_count": 46,
   "id": "3cea3157",
   "metadata": {},
   "outputs": [
    {
     "name": "stdout",
     "output_type": "stream",
     "text": [
      "Number of Digits :  10\n"
     ]
    }
   ],
   "source": [
    "n = int(input(\"Enter the number: \"))   \n",
    "digits = 0\n",
    "while n != 0:\n",
    "    n = n // 10\n",
    "    digits += 1\n",
    "print(\"Number of Digits : \", digits)"
   ]
  },
  {
   "cell_type": "markdown",
   "id": "c82000a9",
   "metadata": {},
   "source": [
    "#### Write a program to check the given number is Amstrong number or not\n",
    "\n",
    "for all the numbers we have to find the number of digits,because Armstrong number is a number that is equal to the sum of cubes of its digits\n",
    "\n",
    "example 1 : 153 --> number of digit = 3 --> 1^3 + 5^3 + 3^3 = 153\n",
    "\n",
    "example 2 : 1634 --> number of digit = 4 --> 1^4 + 6^4 + 3^4 + 4^4 = 1634'''"
   ]
  },
  {
   "cell_type": "code",
   "execution_count": 51,
   "id": "2a55eba2",
   "metadata": {},
   "outputs": [
    {
     "name": "stdout",
     "output_type": "stream",
     "text": [
      "Not an Amstrong Number\n"
     ]
    }
   ],
   "source": [
    "n = int(input(\"Enter the number: \"))   \n",
    "sum = no_of_digits = 0\n",
    "t_d = t = n\n",
    "\n",
    "## the below while loop is used to count the number of digits in a given number\n",
    "while t_d != 0:\n",
    "    t_d = t_d // 10\n",
    "    no_of_digits += 1\n",
    "\n",
    "#the below loop is used to check wheather the given number is amstrong or no\n",
    "while t > 0: \n",
    "        digit = t % 10\n",
    "        sum += digit ** no_of_digits\n",
    "        t //= 10\n",
    "\n",
    "if sum == n:\n",
    "        print(\"Its is an amstrong number\")\n",
    "else:\n",
    "       print(\"Not an Amstrong Number\")"
   ]
  },
  {
   "cell_type": "markdown",
   "id": "c7a1f4b6",
   "metadata": {},
   "source": [
    "#### Write a program to display the Amstrong numbers in the given range\n",
    "\n",
    "Enter lower range: 100<br>\n",
    "Enter upper range: 1000<br>\n",
    "\n",
    "The armstrong numbers are: <br>\n",
    "153<br>\n",
    "370<br>\n",
    "371<br>\n",
    "407<br>\n",
    "\n",
    "**Armstrong number is a number that is equal to the sum of cubes of its digits**\n"
   ]
  },
  {
   "cell_type": "code",
   "execution_count": 45,
   "id": "7271c214",
   "metadata": {},
   "outputs": [
    {
     "name": "stdout",
     "output_type": "stream",
     "text": [
      "Enter Lower range: 100\n",
      "Enter Upper range: 2000\n",
      "153\n",
      "370\n",
      "371\n",
      "407\n",
      "1634\n"
     ]
    }
   ],
   "source": [
    "l = int(input(\"Enter Lower range: \"))\n",
    "u = int(input(\"Enter Upper range: \"))\n",
    "for num in range(l, u + 1):\n",
    "    sum = 0\n",
    "    number_of_digit = 0\n",
    "    t1 = temp = num\n",
    "    \n",
    "    '''for all the numbers we have to find the number of digits, \n",
    "    because Armstrong number is a number that is equal to the sum of cubes of its digits\n",
    "    example 1 : 153 --> number of digit = 3 --> 1^3 + 5^3 + 3^3 = 153\n",
    "    example 2 : 1634 --> number of digit = 4 --> 1^4 + 6^4 + 3^4 + 4^4 = 1634'''\n",
    "    while t1 > 0: \n",
    "        t1 //= 10 \n",
    "        number_of_digit += 1\n",
    "        \n",
    "    while temp > 0:\n",
    "        digit = temp % 10\n",
    "        sum += digit ** number_of_digit\n",
    "        temp //= 10\n",
    "    if num == sum:\n",
    "        print(num)"
   ]
  },
  {
   "cell_type": "markdown",
   "id": "5120c390",
   "metadata": {},
   "source": [
    "#### Write a program to accept the numbers continuously; when we enter\"-1” it should stop accepting the input and at the same time display the number of even numbers and odd numbers that were entered.\n",
    "\n",
    "Sample Input\n",
    "\n",
    "Enter the number = 56 <br>\n",
    "Enter the number = 5 <br>\n",
    "Enter the number = 26 <br>\n",
    "Enter the number = 45 <br>\n",
    "Enter the number = 13 <br>\n",
    "Enter the number = 11 <br>\n",
    "Enter the number = 16 <br>\n",
    "Enter the number = 19 <br>\n",
    "Enter the number = 48 <br>\n",
    "Enter the number = -1 <br>\n",
    "\n",
    "Sample Output\n",
    "\n",
    "Number of Even Numbers Entered = 4 <br>\n",
    "Number of Odd Numbers Entered = 5 <br>\n"
   ]
  },
  {
   "cell_type": "code",
   "execution_count": 55,
   "id": "ba62b1b4",
   "metadata": {},
   "outputs": [
    {
     "name": "stdout",
     "output_type": "stream",
     "text": [
      "Number of Even Numbers Entered =  2\n",
      "Number of Odd Numbers Entered =  2\n"
     ]
    }
   ],
   "source": [
    "e_c = o_c = 0\n",
    "while(True):\n",
    "    n = int(input(\"Enter the number = \"))\n",
    "    if n == -1:\n",
    "        break\n",
    "    if n%2 == 0:\n",
    "        e_c += 1\n",
    "    else:\n",
    "        o_c += 1\n",
    "print(\"Number of Even Numbers Entered = \",e_c)\n",
    "print(\"Number of Odd Numbers Entered = \",o_c)"
   ]
  },
  {
   "cell_type": "markdown",
   "id": "f2216d7e",
   "metadata": {},
   "source": [
    "#### Program should accept input untill we press \"q\", if we press \"q\" it should stop and print number of character of entered and number of integers entered."
   ]
  },
  {
   "cell_type": "code",
   "execution_count": 51,
   "id": "fd791f0e",
   "metadata": {},
   "outputs": [
    {
     "name": "stdout",
     "output_type": "stream",
     "text": [
      "Your Input : g\n",
      "Your Input : 5\n",
      "Your Input : 12\n",
      "Your Input : 89\n",
      "Your Input : t\n",
      "Your Input : d\n",
      "Your Input : 5\n",
      "Your Input : q\n",
      "Number of Characters entered =  3\n",
      "Number of Integers entered =  4\n"
     ]
    }
   ],
   "source": [
    "c = n = 0\n",
    "while(True):\n",
    "    i = input(\"Your Input : \")\n",
    "    if i == 'q' or i == \"Q\":\n",
    "        break\n",
    "    if i>='a' and i<='z' or i>='A' and i<='Z':\n",
    "        c += 1\n",
    "    else:\n",
    "        n += 1\n",
    "print(\"Number of Characters entered = \",c)\n",
    "print(\"Number of Integers entered = \",n)       "
   ]
  },
  {
   "cell_type": "code",
   "execution_count": 1,
   "id": "8d359152-783e-4eff-9c71-5ef6fe46bf3b",
   "metadata": {},
   "outputs": [
    {
     "name": "stdin",
     "output_type": "stream",
     "text": [
      "Enter the start of range:  1\n",
      "Enter the end of range:  10\n"
     ]
    },
    {
     "name": "stdout",
     "output_type": "stream",
     "text": [
      "\n",
      "Binary values from 1 to 10:\n",
      "0b1\n",
      "0b10\n",
      "0b11\n",
      "0b100\n",
      "0b101\n",
      "0b110\n",
      "0b111\n",
      "0b1000\n",
      "0b1001\n",
      "0b1010\n"
     ]
    }
   ],
   "source": [
    "### write a python program to print the binary value of the numbers within the given range using **bin()** function \n",
    "start = int(input(\"Enter the start of range: \"))\n",
    "end = int(input(\"Enter the end of range: \"))\n",
    "\n",
    "print(f\"\\nBinary values from {start} to {end}:\")\n",
    "for n in range(start, end + 1):\n",
    "    print(bin(n))"
   ]
  },
  {
   "cell_type": "markdown",
   "id": "68da8774-8772-4ade-b96a-69476e5e9dce",
   "metadata": {},
   "source": [
    "### Write a python program to print the binary value of the numbers within the given range without using **bin()** function "
   ]
  },
  {
   "cell_type": "code",
   "execution_count": 2,
   "id": "8d706682-9f38-4f64-8621-9cc065d958fd",
   "metadata": {},
   "outputs": [
    {
     "name": "stdin",
     "output_type": "stream",
     "text": [
      "Enter the start of range:  1\n",
      "Enter the end of range:  10\n"
     ]
    },
    {
     "name": "stdout",
     "output_type": "stream",
     "text": [
      "\n",
      "Binary values from 1 to 10:\n",
      "1\n",
      "10\n",
      "11\n",
      "100\n",
      "101\n",
      "110\n",
      "111\n",
      "1000\n",
      "1001\n",
      "1010\n"
     ]
    }
   ],
   "source": [
    "start = int(input(\"Enter the start of range: \"))\n",
    "end = int(input(\"Enter the end of range: \"))\n",
    "\n",
    "print(f\"\\nBinary values from {start} to {end}:\")\n",
    "for n in range(start, end + 1):\n",
    "    if n == 0:\n",
    "        print(0)\n",
    "    binary = 0\n",
    "    place = 1\n",
    "    while n > 0:\n",
    "        remainder = n % 2\n",
    "        binary = binary + remainder * place\n",
    "        place = place * 10\n",
    "        n = n // 2\n",
    "    print(binary)"
   ]
  },
  {
   "cell_type": "markdown",
   "id": "1086e65e-8c1d-4e90-8d73-95d418c5460e",
   "metadata": {},
   "source": [
    "### Explanation\n",
    "\n",
    "**remainder = n % 2**\n",
    "\n",
    "Gets the last binary digit (0 or 1).\n",
    "\n",
    "**binary = binary + remainder * place**\n",
    "\n",
    "Builds the binary number from right to left. The place starts at 1 (units), then 10 (tens), 100, etc., to place each digit in its correct position.\n",
    "\n",
    "**place = place * 10**\n",
    "\n",
    "Moves one digit to the left in decimal representation.\n",
    "\n",
    "**n = n // 2**\n",
    "\n",
    "Cut the number in half, dropping fractions like moving to the next bit in binary."
   ]
  },
  {
   "cell_type": "markdown",
   "id": "c2353ee7-5310-439d-9c3e-7bd7367a57e0",
   "metadata": {},
   "source": [
    "#### Write a program to print the given number in reverse \n",
    "\n",
    "**Example:**\n",
    "\n",
    "Input - 1245\n",
    "\n",
    "Output - 5421\n"
   ]
  },
  {
   "cell_type": "code",
   "execution_count": 3,
   "id": "4bcc45bb-cc95-47b6-8ef2-76c7072a4778",
   "metadata": {},
   "outputs": [
    {
     "name": "stdin",
     "output_type": "stream",
     "text": [
      "Enter the number: 45789\n"
     ]
    },
    {
     "name": "stdout",
     "output_type": "stream",
     "text": [
      "Reverse of a number:  98754\n"
     ]
    }
   ],
   "source": [
    "n = int(input(\"Enter the number:\"))\n",
    "r_n = 0\n",
    "while n!=0:\n",
    "    l_d = n % 10\n",
    "    r_n = r_n * 10 + l_d\n",
    "    n = n // 10\n",
    "print(\"Reverse of a number: \", r_n)"
   ]
  },
  {
   "cell_type": "markdown",
   "id": "69fadb4a-ab6b-4339-a0c3-ff9c67667b55",
   "metadata": {},
   "source": [
    "#### Write a Python program to print the factors of the number in the given range"
   ]
  },
  {
   "cell_type": "code",
   "execution_count": 4,
   "id": "0187290c-4826-4910-9600-7a917a826a8f",
   "metadata": {},
   "outputs": [
    {
     "name": "stdin",
     "output_type": "stream",
     "text": [
      "Enter the starting:  1\n",
      "Enter the ending:  10\n"
     ]
    },
    {
     "name": "stdout",
     "output_type": "stream",
     "text": [
      "1 = 1\n",
      "2 = 1,2\n",
      "3 = 1,3\n",
      "4 = 1,2,4\n",
      "5 = 1,5\n",
      "6 = 1,2,3,6\n",
      "7 = 1,7\n",
      "8 = 1,2,4,8\n",
      "9 = 1,3,9\n",
      "10 = 1,2,5,10\n"
     ]
    }
   ],
   "source": [
    "start = int(input(\"Enter the starting: \"))\n",
    "end = int(input(\"Enter the ending: \"))\n",
    "for i in range(start,end+1):\n",
    "    print(i,\"=\",end = \" \")\n",
    "    for j in range(1,i+1):\n",
    "        if i%j == 0:\n",
    "            print(j, end= \",\")\n",
    "    print(\"\\b\")"
   ]
  },
  {
   "attachments": {
    "17e5f1f8-1989-4dd9-bdce-b84f00ec7514.png": {
     "image/png": "[encoded data removed]"
    },
    "a9299895-5d50-4822-bcbe-3437615c2e81.png": {
     "image/png": "[encoded data removed]"
    },
    "ad81272d-1aee-492c-bce1-1fb792509051.png": {
     "image/png": "[encoded data removed]"
    }
   },
   "cell_type": "markdown",
   "id": "f9f530c3-cd28-42c7-b7f5-db9c4e2ac623",
   "metadata": {},
   "source": [
    "#### Write a program to print the result of the following pattern\n",
    "\n",
    "![image.png](attachment:ad81272d-1aee-492c-bce1-1fb792509051.png)\n",
    "\n",
    "![image.png](attachment:17e5f1f8-1989-4dd9-bdce-b84f00ec7514.png)\n",
    "\n",
    "![image.png](attachment:a9299895-5d50-4822-bcbe-3437615c2e81.png)"
   ]
  },
  {
   "cell_type": "code",
   "execution_count": 6,
   "id": "42d4c6a3-b440-46d6-b9a3-a2fec6388c98",
   "metadata": {},
   "outputs": [
    {
     "name": "stdin",
     "output_type": "stream",
     "text": [
      "Enter the n value:  5\n"
     ]
    },
    {
     "name": "stdout",
     "output_type": "stream",
     "text": [
      "1.4636111111111112\n"
     ]
    }
   ],
   "source": [
    "n = int(input(\"Enter the n value: \"))\n",
    "sum = 0\n",
    "for i in range(1,n+1):\n",
    "    sum = sum + 1 / i ** 2\n",
    "print(sum)"
   ]
  },
  {
   "cell_type": "code",
   "execution_count": null,
   "id": "9415ea3e-c882-44d9-8949-0453691ebe82",
   "metadata": {},
   "outputs": [],
   "source": []
  }
 ],
 "metadata": {
  "kernelspec": {
   "display_name": "Python 3 (ipykernel)",
   "language": "python",
   "name": "python3"
  },
  "language_info": {
   "codemirror_mode": {
    "name": "ipython",
    "version": 3
   },
   "file_extension": ".py",
   "mimetype": "text/x-python",
   "name": "python",
   "nbconvert_exporter": "python",
   "pygments_lexer": "ipython3",
   "version": "3.8.0"
  }
 },
 "nbformat": 4,
 "nbformat_minor": 5
}
