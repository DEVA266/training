{
 "cells": [
  {
   "cell_type": "markdown",
   "id": "2cd210cb",
   "metadata": {},
   "source": [
    "### 1.Write a program to calculate the area of a triangle using Heron’s formula.\n",
    "### (Hint: Heron’s formula is given as: area = sqrt(S*(S–a)*(S–b)*(S–c)))\n"
   ]
  },
  {
   "cell_type": "code",
   "execution_count": 3,
   "id": "51e4052b",
   "metadata": {},
   "outputs": [
    {
     "name": "stdout",
     "output_type": "stream",
     "text": [
      "AREA of the triangle is :  9.921567416492215\n"
     ]
    }
   ],
   "source": [
    "a = float(input(\"enter the length of A :\"))\n",
    "b = float(input(\"enter the length of B :\"))\n",
    "c = float(input(\"enter the length of C :\"))\n",
    "s = (a+b+c)/2\n",
    "area = (s*(s-a)*(s-b)*(s-c))**0.5\n",
    "print(\"AREA of the triangle is : \",area)"
   ]
  },
  {
   "cell_type": "markdown",
   "id": "f9d2e0cf",
   "metadata": {},
   "source": [
    "### 2.Write a program to calculate the distance between two points."
   ]
  },
  {
   "cell_type": "code",
   "execution_count": null,
   "id": "b0bab66a",
   "metadata": {},
   "outputs": [],
   "source": [
    "x1 = float(input(\"Enter the X coordinate of the point 1 : \"))\n",
    "y1 = float(input(\"Enter the Y coordinate of the point 1 : \"))\n",
    "x2 = float(input(\"Enter the X coordinate of the point 2 : \"))\n",
    "y2 = float(input(\"Enter the X coordinate of the point 2 : \"))\n",
    "d = ((x2-x1)**2 + (y2-y1)**2)**0.5\n",
    "print(\"The distance between two points is : \",d)\n"
   ]
  },
  {
   "cell_type": "markdown",
   "id": "7753dbe9",
   "metadata": {},
   "source": [
    "### 3.Write a program to calculate the area of a circle, rectangle, triangle, and square."
   ]
  },
  {
   "cell_type": "code",
   "execution_count": null,
   "id": "a73cfd85",
   "metadata": {},
   "outputs": [
    {
     "name": "stdout",
     "output_type": "stream",
     "text": [
      "Area of the rectangle is :  720.0\n"
     ]
    }
   ],
   "source": [
    "import math\n",
    "ques = input(\"Enter what area to be calculate \\n 1.circle\\n2.rectangle\\n3.triangle\\n4.square : \").lower()\n",
    "if ques == \"circle\" :\n",
    "    radius = float(\"enter the radius of the circle : \")\n",
    "    area_circle = math.pi*(r**2)\n",
    "    print(\"The area of the given circle : \",area_circle)\n",
    "elif ques == \"rectangle\" :\n",
    "    length = float(input(\"Enter the length of the rectangle : \"))\n",
    "    breadth = float(input(\"Enter the breadth of the rectangle : \"))\n",
    "    area_rectangle = length*breadth\n",
    "    print(\"Area of the rectangle is : \",area_rectangle)\n",
    "elif ques == \"triangle\":\n",
    "    base = float(input(\"enter the base of the triangle : \"))\n",
    "    height = float(input(\"enter the height of the triangle : \"))\n",
    "    area_triangle = (1/2)*base*height \n",
    "    print(\"The area of the triangle : \",area_triangle)\n",
    "elif ques == \"square\" :\n",
    "    side = float(input(\"Enter the length of the side of an square : \"))\n",
    "    area_square = side**2\n",
    "    print(\"The Area of an Square : \",area_square)\n",
    "else :\n",
    "    print(\"Enter an valid option\")\n",
    "    "
   ]
  },
  {
   "cell_type": "markdown",
   "id": "27ae8150",
   "metadata": {},
   "source": [
    "### 4.Write a program to print the digit at one’s place of a number."
   ]
  },
  {
   "cell_type": "code",
   "execution_count": 2,
   "id": "fc3f0b36",
   "metadata": {},
   "outputs": [
    {
     "name": "stdout",
     "output_type": "stream",
     "text": [
      "The digit at one's place of the given number is : 3\n"
     ]
    }
   ],
   "source": [
    "num = abs(int(input(\"enter an number : \")))\n",
    "ones = num%10\n",
    "print(f\"The digit at one's place of the given number is : {ones}\")\n",
    "\n"
   ]
  },
  {
   "cell_type": "markdown",
   "id": "f369a397",
   "metadata": {},
   "source": [
    "### 5.Write a program to calculate the total amount of money in the piggy bank, given the coins of ₹10, ₹5, ₹2, and ₹1.\n"
   ]
  },
  {
   "cell_type": "code",
   "execution_count": 3,
   "id": "f7631d10",
   "metadata": {},
   "outputs": [
    {
     "name": "stdout",
     "output_type": "stream",
     "text": [
      "The Total amount present in the piggy bank is : 172\n"
     ]
    }
   ],
   "source": [
    "ten = int(input(\"Enter the number of 10 rupee coin in the piggy bank : \"))\n",
    "five = int(input(\"Enter the number of 5 rupee coin in the piggy bank : \"))\n",
    "two = int(input(\"Enter the number of 2 rupee coin in the piggy bank : \"))\n",
    "one= int(input(\"Enter the number of 10 rupee coin in the piggy bank : \"))\n",
    "print(f\"The Total amount present in the piggy bank is : {10*ten + 5*five + two*2 + one}\")"
   ]
  },
  {
   "cell_type": "markdown",
   "id": "674da058",
   "metadata": {},
   "source": [
    "### 6.Write a program to calculate the bill amount for an item given its quantity sold, value, discount, and tax.\n"
   ]
  },
  {
   "cell_type": "code",
   "execution_count": null,
   "id": "a6589a87",
   "metadata": {},
   "outputs": [
    {
     "name": "stdout",
     "output_type": "stream",
     "text": [
      "The Total bill amount after Discout and tax is : 99.0\n"
     ]
    }
   ],
   "source": [
    "item = input(\"Enter the name of the product : \")\n",
    "quantity = int(input(\"Enter the quantity : \"))\n",
    "price = float(input(\"Enter the price of the item : \"))\n",
    "discount = int(input(\"enter the discount out of 100 : \"))\n",
    "tax = int(input(\"Enter the total tax for the given item : \"))\n",
    "total_bill = quantity*price\n",
    "after_dis = total_bill - total_bill*(discount/100)\n",
    "final_bill = after_dis + after_dis*(tax/100)\n",
    "print(f\"The Total bill amount after Discout and tax is : {final_bill}\")\n"
   ]
  },
  {
   "cell_type": "markdown",
   "id": "664c979b",
   "metadata": {},
   "source": [
    "### 7.Write a python program to calculate a household's electricity bill.The user should enter the number of units consumed. The charges are as follows:\n",
    "For the first 100 units: ₹1.50 per unit\n",
    "For the next 100 units (101–200): ₹2.00 per unit\n",
    "For units above 200: ₹3.00 per unit\n",
    "#### A fixed meter charge of ₹50 is added to the bill.Display the total amount to be paid with a proper bill format.\n"
   ]
  },
  {
   "cell_type": "code",
   "execution_count": 15,
   "id": "fbb2ee32",
   "metadata": {},
   "outputs": [
    {
     "name": "stdout",
     "output_type": "stream",
     "text": [
      "The Total number of units consumed is : 500.0\n",
      "The Total amount to be paid for 500.0 units is : 1300.0\n"
     ]
    }
   ],
   "source": [
    "units = float(input(\"Enter the number of units consumed : \"))\n",
    "bill = 0\n",
    "if units in range(0,101):\n",
    "    bill = bill + units*1.50\n",
    "elif units in range(101,201):\n",
    "    bill = (100*1.50)+((units-100)*2.00)\n",
    "elif units > 200 :\n",
    "    bill = (100*1.50) + (100*2.00) + ((units-200)*3.00)\n",
    "else :\n",
    "    pass\n",
    "print(f\"The Total number of units consumed is : {units}\\nThe Total amount to be paid for {units} units is : {bill+50}\")\n"
   ]
  },
  {
   "cell_type": "markdown",
   "id": "094f6f18",
   "metadata": {},
   "source": [
    "### 8.Develop a Python program that calculates an employee’s net salary. Accept input for:\n",
    "Employee name and ID\n",
    "Number of hours worked\n",
    "Hourly wage\n",
    "#### Calculate the gross salary and deduct 10% as tax. Display a proper salary slip with all details.\n"
   ]
  },
  {
   "cell_type": "code",
   "execution_count": null,
   "id": "d398a10e",
   "metadata": {},
   "outputs": [],
   "source": [
    "name = input(\"Enter the employee name : \")\n",
    "em_ip = input(\"Enter the employee id : \")\n",
    "worked = int(input(\"Numbers of hours Worked : \"))\n",
    "wage = float(input(\"Enter The Hourly wage : \"))\n"
   ]
  }
 ],
 "metadata": {
  "kernelspec": {
   "display_name": "Python 3",
   "language": "python",
   "name": "python3"
  },
  "language_info": {
   "codemirror_mode": {
    "name": "ipython",
    "version": 3
   },
   "file_extension": ".py",
   "mimetype": "text/x-python",
   "name": "python",
   "nbconvert_exporter": "python",
   "pygments_lexer": "ipython3",
   "version": "3.13.3"
  }
 },
 "nbformat": 4,
 "nbformat_minor": 5
}
