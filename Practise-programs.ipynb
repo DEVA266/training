{
 "cells": [
  {
   "cell_type": "markdown",
   "id": "caf687c6",
   "metadata": {},
   "source": [
    "## BASIC PROGRAMS "
   ]
  },
  {
   "cell_type": "markdown",
   "id": "aa133361",
   "metadata": {},
   "source": [
    "1. Write a program to perform addition, subtraction, division, and multiplication on two floating-point numbers.\n"
   ]
  },
  {
   "cell_type": "code",
   "execution_count": null,
   "id": "b4f26b37",
   "metadata": {},
   "outputs": [
    {
     "name": "stdout",
     "output_type": "stream",
     "text": [
      "Addition : 9.25\n",
      "Subtraction : 2.01\n",
      "Division : 1.56\n",
      "Multiplication : 20.3806\n"
     ]
    }
   ],
   "source": [
    "num1 = float(input(\"Enter number 1 : \"))\n",
    "num2 = float(input(\"Enter number 2 : \"))\n",
    "print(f\"Addition : {(num1+num2):.2f}\")\n",
    "print(f\"Subtraction : {num1-num2}\")\n",
    "print(f\"Division : {(num1/num2):.2f}\")\n",
    "print(f\"Multiplication : {(num1*num2):.2f}\")\n",
    "\n"
   ]
  },
  {
   "cell_type": "markdown",
   "id": "a7a1aa3b",
   "metadata": {},
   "source": [
    "2.Write a program to enter a number and display its hex and octal equivalent and its square root.\n"
   ]
  },
  {
   "cell_type": "code",
   "execution_count": 5,
   "id": "37609b17",
   "metadata": {},
   "outputs": [
    {
     "name": "stdout",
     "output_type": "stream",
     "text": [
      "Hexadecimal : bd\n",
      "Octal : 275\n",
      "Square root : 13.75\n"
     ]
    }
   ],
   "source": [
    "import math\n",
    "a = int(input(\"Enter a number : \"))\n",
    "print(f\"Hexadecimal : {hex(a)[2:]}\")\n",
    "print(f\"Octal : {oct(a)[2:]}\")\n",
    "print(f\"Square root : {math.sqrt(a):.2f}\")"
   ]
  },
  {
   "cell_type": "markdown",
   "id": "fe8aef4c",
   "metadata": {},
   "source": [
    "3.Write a program to calculate the area of a triangle using Heron’s formula.\n",
    "(Hint: Heron’s formula is given as: area = sqrt(S*(S–a)*(S–b)*(S–c)))"
   ]
  },
  {
   "cell_type": "code",
   "execution_count": 7,
   "id": "b1790f5c",
   "metadata": {},
   "outputs": [
    {
     "name": "stdout",
     "output_type": "stream",
     "text": [
      "AREA of the triangle is :  8.1815\n"
     ]
    }
   ],
   "source": [
    "a = float(input(\"enter the length of A :\"))\n",
    "b = float(input(\"enter the length of B :\"))\n",
    "c = float(input(\"enter the length of C :\"))\n",
    "s = (a+b+c)/2\n",
    "area = (s*(s-a)*(s-b)*(s-c))**0.5\n",
    "print(\"AREA of the triangle is : \",round(area,4))"
   ]
  },
  {
   "cell_type": "markdown",
   "id": "949b7b0d",
   "metadata": {},
   "source": [
    "4.Write a program to calculate the distance between two points."
   ]
  },
  {
   "cell_type": "code",
   "execution_count": 8,
   "id": "355ea1ab",
   "metadata": {},
   "outputs": [
    {
     "name": "stdout",
     "output_type": "stream",
     "text": [
      "The distance between two points is :  2.8284\n"
     ]
    }
   ],
   "source": [
    "x1 = float(input(\"Enter the X coordinate of the point 1 : \"))\n",
    "y1 = float(input(\"Enter the Y coordinate of the point 1 : \"))\n",
    "x2 = float(input(\"Enter the X coordinate of the point 2 : \"))\n",
    "y2 = float(input(\"Enter the X coordinate of the point 2 : \"))\n",
    "d = ((x2-x1)**2 + (y2-y1)**2)**0.5\n",
    "print(\"The distance between two points is : \",round(d,4))"
   ]
  },
  {
   "cell_type": "markdown",
   "id": "dd9ef20a",
   "metadata": {},
   "source": [
    "5.Write a program to calculate the area of a circle, rectangle, triangle, and square."
   ]
  },
  {
   "cell_type": "code",
   "execution_count": 15,
   "id": "7173f762",
   "metadata": {},
   "outputs": [
    {
     "name": "stdout",
     "output_type": "stream",
     "text": [
      "The Area of an Square :  64.0\n"
     ]
    }
   ],
   "source": [
    "import math\n",
    "ques = input(\"Enter what area to be calculate \\n 1.circle\\n2.rectangle\\n3.triangle\\n4.square : \").lower()\n",
    "if ques == \"circle\" :\n",
    "    radius = float(input(\"enter the radius of the circle : \"))\n",
    "    area_circle = math.pi*(radius**2)\n",
    "    print(\"The area of the given circle : \",area_circle)\n",
    "elif ques == \"rectangle\" :\n",
    "    length = float(input(\"Enter the length of the rectangle : \"))\n",
    "    breadth = float(input(\"Enter the breadth of the rectangle : \"))\n",
    "    area_rectangle = length*breadth\n",
    "    print(\"Area of the rectangle is : \",area_rectangle)\n",
    "elif ques == \"triangle\":\n",
    "    base = float(input(\"enter the base of the triangle : \"))\n",
    "    height = float(input(\"enter the height of the triangle : \"))\n",
    "    area_triangle = (1/2)*base*height \n",
    "    print(\"The area of the triangle : \",area_triangle)\n",
    "elif ques == \"square\" :\n",
    "    side = float(input(\"Enter the length of the side of an square : \"))\n",
    "    area_square = side**2\n",
    "    print(\"The Area of an Square : \",area_square)\n",
    "else :\n",
    "    print(\"Enter an valid option\")\n",
    "    "
   ]
  },
  {
   "cell_type": "markdown",
   "id": "03c5c1f8",
   "metadata": {},
   "source": [
    "6.Write a program to print the digit at one’s place of a number."
   ]
  },
  {
   "cell_type": "code",
   "execution_count": 16,
   "id": "89a49891",
   "metadata": {},
   "outputs": [
    {
     "name": "stdout",
     "output_type": "stream",
     "text": [
      "The digit at one's place of the given number is : 8\n"
     ]
    }
   ],
   "source": [
    "num = abs(int(input(\"enter an number : \")))\n",
    "ones = num%10\n",
    "print(f\"The digit at one's place of the given number is : {ones}\")"
   ]
  },
  {
   "cell_type": "markdown",
   "id": "77c36ea6",
   "metadata": {},
   "source": [
    "7.Write a program to calculate the average of two numbers. Print their deviation."
   ]
  },
  {
   "cell_type": "code",
   "execution_count": 18,
   "id": "4e5f763b",
   "metadata": {},
   "outputs": [
    {
     "name": "stdout",
     "output_type": "stream",
     "text": [
      "The average of the number : 34.0\n",
      "The deviation of the number 1 : -9.0\n",
      "The deviation of the number 2 : 9.0\n"
     ]
    }
   ],
   "source": [
    "num1 = int(input(\"Enter number 1 : \"))\n",
    "num2 = int(input(\"Enter number 2 : \"))\n",
    "avg = (num1+num2)/2\n",
    "deviation1 = num1-avg\n",
    "deviation2 = num2-avg\n",
    "print(f\"The average of the number : {avg}\")\n",
    "print(f\"The deviation of the number 1 : {deviation1}\")\n",
    "print(f\"The deviation of the number 2 : {deviation2}\")\n",
    "\n"
   ]
  },
  {
   "cell_type": "markdown",
   "id": "64c1e553",
   "metadata": {},
   "source": [
    "8.Write a program to calculate the total amount of money in the piggy bank, given the coins of ₹10, ₹5, ₹2, and ₹1."
   ]
  },
  {
   "cell_type": "code",
   "execution_count": null,
   "id": "6b7f04dc",
   "metadata": {},
   "outputs": [
    {
     "name": "stdout",
     "output_type": "stream",
     "text": [
      "The Total amount present in the piggy bank is : ₹438\n"
     ]
    }
   ],
   "source": [
    "ten = int(input(\"Enter the number of 10 rupee coin in the piggy bank : \"))\n",
    "five = int(input(\"Enter the number of 5 rupee coin in the piggy bank : \"))\n",
    "two = int(input(\"Enter the number of 2 rupee coin in the piggy bank : \"))\n",
    "one= int(input(\"Enter the number of 1 rupee coin in the piggy bank : \"))\n",
    "print(f\"The Total amount present in the piggy bank is : ₹{10*ten + 5*five + two*2 + one}\")"
   ]
  },
  {
   "cell_type": "markdown",
   "id": "7a26fc83",
   "metadata": {},
   "source": [
    "9.Write a program to calculate the bill amount for an item given its quantity sold, value, discount, and tax."
   ]
  },
  {
   "cell_type": "code",
   "execution_count": 20,
   "id": "486ceafe",
   "metadata": {},
   "outputs": [
    {
     "name": "stdout",
     "output_type": "stream",
     "text": [
      "---- Total Bill -----\n",
      "Name    :   COMB\n",
      "Quantity :  4\n",
      "Price :    ₹ 20.0\n",
      "Discount:   3%\n",
      "tax:        6%\n",
      "Total :    ₹ 82.26\n"
     ]
    }
   ],
   "source": [
    "item = input(\"Enter the name of the product : \")\n",
    "quantity = int(input(\"Enter the quantity : \"))\n",
    "price = float(input(\"Enter the price of the item : \"))\n",
    "discount = int(input(\"enter the discount out of 100 : \"))\n",
    "tax = int(input(\"Enter the total tax for the given item : \"))\n",
    "total_bill = quantity*price\n",
    "after_dis = total_bill - total_bill*(discount/100)\n",
    "final_bill = after_dis + after_dis*(tax/100)\n",
    "print(\"---- Total Bill -----\")\n",
    "print(\"Name    :  \",item.upper())\n",
    "print(\"Quantity : \",quantity)\n",
    "print(\"Price :    ₹\",price)\n",
    "print(f\"Discount:   {discount}%\")\n",
    "print(f\"tax:        {tax}%\")\n",
    "print(\"Total :    ₹\",round(final_bill,2))\n"
   ]
  },
  {
   "cell_type": "markdown",
   "id": "0d934f3a",
   "metadata": {},
   "source": [
    "### 7.Write a python program to calculate a household's electricity bill.The user should enter the number of units consumed. The charges are as follows:\n",
    "For the first 100 units: ₹1.50 per unit\n",
    "For the next 100 units (101–200): ₹2.00 per unit\n",
    "For units above 200: ₹3.00 per unit\n",
    "#### A fixed meter charge of ₹50 is added to the bill.Display the total amount to be paid with a proper bill format.\n"
   ]
  },
  {
   "cell_type": "code",
   "execution_count": 21,
   "id": "ebf6f2d8",
   "metadata": {},
   "outputs": [
    {
     "name": "stdout",
     "output_type": "stream",
     "text": [
      "------ Total Bill -------\n",
      "units        :      178.0\n",
      "meter charge :      50\n",
      "Final Bill   :     ₹ 356.0\n",
      "-------------------------\n"
     ]
    }
   ],
   "source": [
    "units = float(input(\"Enter the number of units consumed : \"))\n",
    "bill = 0\n",
    "if units in range(0,101):\n",
    "    bill = bill + units*1.50\n",
    "elif units in range(101,201):\n",
    "    bill = (100*1.50)+((units-100)*2.00)\n",
    "elif units > 200 :\n",
    "    bill = (100*1.50) + (100*2.00) + ((units-200)*3.00)\n",
    "else :\n",
    "    pass\n",
    "bill += 50\n",
    "print(\"------ Total Bill -------\")\n",
    "print(\"units        :     \",units)\n",
    "print(\"meter charge :      50\")\n",
    "print(\"Final Bill   :     ₹\",bill)\n",
    "print(\"-------------------------\")"
   ]
  },
  {
   "cell_type": "markdown",
   "id": "17a8683b",
   "metadata": {},
   "source": [
    "11.Write a Python program that calculates the overall result (percentage) of a student based on:\n",
    "Two examination scores (each out of 100)\n",
    "One sports event score (out of 50)\n",
    "Three activity scores (each out of 20)\n",
    "Each component carries a specific weightage toward the result:\n",
    "Examinations: 50%\n",
    "Sports: 20%\n",
    "Activities: 30%\n"
   ]
  },
  {
   "cell_type": "code",
   "execution_count": null,
   "id": "c2acb9a0",
   "metadata": {},
   "outputs": [],
   "source": [
    "exam1 = float(input(\"Enter score for Examination 1 (out of 100): \"))\n",
    "exam2 = float(input(\"Enter score for Examination 2 (out of 100): \"))\n",
    "sports = float(input(\"Enter score for Sports (out of 50): \"))\n",
    "activity1 = float(input(\"Enter score for Activity 1 (out of 20): \"))\n",
    "activity2 = float(input(\"Enter score for Activity 2 (out of 20): \"))\n",
    "activity3 = float(input(\"Enter score for Activity 3 (out of 20): \"))\n",
    "exam_avg = (exam1 + exam2) / 2    \n",
    "sports_pct = (sports / 50) * 100   \n",
    "activity_avg = (activity1 + activity2 + activity3) / 3  \n",
    "activity_pct = (activity_avg / 20) * 100 \n",
    "overall_percentage = (\n",
    "    exam_avg * 0.50 +\n",
    "    sports_pct * 0.20 +\n",
    "    activity_pct * 0.30\n",
    ")\n",
    "print(f\"\\nOverall Percentage: {overall_percentage:.2f}%\")\n"
   ]
  }
 ],
 "metadata": {
  "kernelspec": {
   "display_name": "Python 3",
   "language": "python",
   "name": "python3"
  },
  "language_info": {
   "codemirror_mode": {
    "name": "ipython",
    "version": 3
   },
   "file_extension": ".py",
   "mimetype": "text/x-python",
   "name": "python",
   "nbconvert_exporter": "python",
   "pygments_lexer": "ipython3",
   "version": "3.11.0"
  }
 },
 "nbformat": 4,
 "nbformat_minor": 5
}
